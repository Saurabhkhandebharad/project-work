{
 "cells": [
  {
   "cell_type": "markdown",
   "id": "f796824b",
   "metadata": {},
   "source": [
    "### Air Quality Classification for Indian Cities (2015- 2020) : Exploratory Data Analysis"
   ]
  },
  {
   "cell_type": "markdown",
   "id": "c6c9f4da",
   "metadata": {},
   "source": [
    "Kaggle Dataset link: https://www.kaggle.com/datasets/rohanrao/air-quality-data-in-india\n",
    "\n",
    "Used Dataset: 'city_day.csv'"
   ]
  },
  {
   "cell_type": "code",
   "execution_count": 2,
   "id": "d569c208",
   "metadata": {},
   "outputs": [],
   "source": [
    "#importing necessary libraries\n",
    "import numpy as np\n",
    "import pandas as pd\n",
    "import matplotlib.pyplot as plt\n",
    "from sklearn.model_selection import train_test_split"
   ]
  },
  {
   "cell_type": "code",
   "execution_count": 4,
   "id": "1ab37f3d",
   "metadata": {},
   "outputs": [],
   "source": [
    "# reading data\n",
    "df=pd.read_csv(r\"city_day.csv\",parse_dates=True,index_col='Date')"
   ]
  },
  {
   "cell_type": "code",
   "execution_count": 5,
   "id": "7f95fe2f",
   "metadata": {},
   "outputs": [
    {
     "name": "stdout",
     "output_type": "stream",
     "text": [
      "<class 'pandas.core.frame.DataFrame'>\n",
      "DatetimeIndex: 29531 entries, 2015-01-01 to 2020-07-01\n",
      "Data columns (total 15 columns):\n",
      " #   Column      Non-Null Count  Dtype  \n",
      "---  ------      --------------  -----  \n",
      " 0   City        29531 non-null  object \n",
      " 1   PM2.5       24933 non-null  float64\n",
      " 2   PM10        18391 non-null  float64\n",
      " 3   NO          25949 non-null  float64\n",
      " 4   NO2         25946 non-null  float64\n",
      " 5   NOx         25346 non-null  float64\n",
      " 6   NH3         19203 non-null  float64\n",
      " 7   CO          27472 non-null  float64\n",
      " 8   SO2         25677 non-null  float64\n",
      " 9   O3          25509 non-null  float64\n",
      " 10  Benzene     23908 non-null  float64\n",
      " 11  Toluene     21490 non-null  float64\n",
      " 12  Xylene      11422 non-null  float64\n",
      " 13  AQI         24850 non-null  float64\n",
      " 14  AQI_Bucket  24850 non-null  object \n",
      "dtypes: float64(13), object(2)\n",
      "memory usage: 3.6+ MB\n"
     ]
    }
   ],
   "source": [
    "df.info()"
   ]
  },
  {
   "cell_type": "code",
   "execution_count": 6,
   "id": "ca22340e",
   "metadata": {},
   "outputs": [
    {
     "data": {
      "text/html": [
       "<div>\n",
       "<style scoped>\n",
       "    .dataframe tbody tr th:only-of-type {\n",
       "        vertical-align: middle;\n",
       "    }\n",
       "\n",
       "    .dataframe tbody tr th {\n",
       "        vertical-align: top;\n",
       "    }\n",
       "\n",
       "    .dataframe thead th {\n",
       "        text-align: right;\n",
       "    }\n",
       "</style>\n",
       "<table border=\"1\" class=\"dataframe\">\n",
       "  <thead>\n",
       "    <tr style=\"text-align: right;\">\n",
       "      <th></th>\n",
       "      <th>City</th>\n",
       "      <th>PM2.5</th>\n",
       "      <th>PM10</th>\n",
       "      <th>NO</th>\n",
       "      <th>NO2</th>\n",
       "      <th>NOx</th>\n",
       "      <th>NH3</th>\n",
       "      <th>CO</th>\n",
       "      <th>SO2</th>\n",
       "      <th>O3</th>\n",
       "      <th>Benzene</th>\n",
       "      <th>Toluene</th>\n",
       "      <th>Xylene</th>\n",
       "      <th>AQI</th>\n",
       "      <th>AQI_Bucket</th>\n",
       "    </tr>\n",
       "    <tr>\n",
       "      <th>Date</th>\n",
       "      <th></th>\n",
       "      <th></th>\n",
       "      <th></th>\n",
       "      <th></th>\n",
       "      <th></th>\n",
       "      <th></th>\n",
       "      <th></th>\n",
       "      <th></th>\n",
       "      <th></th>\n",
       "      <th></th>\n",
       "      <th></th>\n",
       "      <th></th>\n",
       "      <th></th>\n",
       "      <th></th>\n",
       "      <th></th>\n",
       "    </tr>\n",
       "  </thead>\n",
       "  <tbody>\n",
       "    <tr>\n",
       "      <th>2015-01-01</th>\n",
       "      <td>Ahmedabad</td>\n",
       "      <td>NaN</td>\n",
       "      <td>NaN</td>\n",
       "      <td>0.92</td>\n",
       "      <td>18.22</td>\n",
       "      <td>17.15</td>\n",
       "      <td>NaN</td>\n",
       "      <td>0.92</td>\n",
       "      <td>27.64</td>\n",
       "      <td>133.36</td>\n",
       "      <td>0.00</td>\n",
       "      <td>0.02</td>\n",
       "      <td>0.00</td>\n",
       "      <td>NaN</td>\n",
       "      <td>NaN</td>\n",
       "    </tr>\n",
       "    <tr>\n",
       "      <th>2015-01-02</th>\n",
       "      <td>Ahmedabad</td>\n",
       "      <td>NaN</td>\n",
       "      <td>NaN</td>\n",
       "      <td>0.97</td>\n",
       "      <td>15.69</td>\n",
       "      <td>16.46</td>\n",
       "      <td>NaN</td>\n",
       "      <td>0.97</td>\n",
       "      <td>24.55</td>\n",
       "      <td>34.06</td>\n",
       "      <td>3.68</td>\n",
       "      <td>5.50</td>\n",
       "      <td>3.77</td>\n",
       "      <td>NaN</td>\n",
       "      <td>NaN</td>\n",
       "    </tr>\n",
       "    <tr>\n",
       "      <th>2015-01-03</th>\n",
       "      <td>Ahmedabad</td>\n",
       "      <td>NaN</td>\n",
       "      <td>NaN</td>\n",
       "      <td>17.40</td>\n",
       "      <td>19.30</td>\n",
       "      <td>29.70</td>\n",
       "      <td>NaN</td>\n",
       "      <td>17.40</td>\n",
       "      <td>29.07</td>\n",
       "      <td>30.70</td>\n",
       "      <td>6.80</td>\n",
       "      <td>16.40</td>\n",
       "      <td>2.25</td>\n",
       "      <td>NaN</td>\n",
       "      <td>NaN</td>\n",
       "    </tr>\n",
       "    <tr>\n",
       "      <th>2015-01-04</th>\n",
       "      <td>Ahmedabad</td>\n",
       "      <td>NaN</td>\n",
       "      <td>NaN</td>\n",
       "      <td>1.70</td>\n",
       "      <td>18.48</td>\n",
       "      <td>17.97</td>\n",
       "      <td>NaN</td>\n",
       "      <td>1.70</td>\n",
       "      <td>18.59</td>\n",
       "      <td>36.08</td>\n",
       "      <td>4.43</td>\n",
       "      <td>10.14</td>\n",
       "      <td>1.00</td>\n",
       "      <td>NaN</td>\n",
       "      <td>NaN</td>\n",
       "    </tr>\n",
       "    <tr>\n",
       "      <th>2015-01-05</th>\n",
       "      <td>Ahmedabad</td>\n",
       "      <td>NaN</td>\n",
       "      <td>NaN</td>\n",
       "      <td>22.10</td>\n",
       "      <td>21.42</td>\n",
       "      <td>37.76</td>\n",
       "      <td>NaN</td>\n",
       "      <td>22.10</td>\n",
       "      <td>39.33</td>\n",
       "      <td>39.31</td>\n",
       "      <td>7.01</td>\n",
       "      <td>18.89</td>\n",
       "      <td>2.78</td>\n",
       "      <td>NaN</td>\n",
       "      <td>NaN</td>\n",
       "    </tr>\n",
       "    <tr>\n",
       "      <th>...</th>\n",
       "      <td>...</td>\n",
       "      <td>...</td>\n",
       "      <td>...</td>\n",
       "      <td>...</td>\n",
       "      <td>...</td>\n",
       "      <td>...</td>\n",
       "      <td>...</td>\n",
       "      <td>...</td>\n",
       "      <td>...</td>\n",
       "      <td>...</td>\n",
       "      <td>...</td>\n",
       "      <td>...</td>\n",
       "      <td>...</td>\n",
       "      <td>...</td>\n",
       "      <td>...</td>\n",
       "    </tr>\n",
       "    <tr>\n",
       "      <th>2020-06-27</th>\n",
       "      <td>Visakhapatnam</td>\n",
       "      <td>15.02</td>\n",
       "      <td>50.94</td>\n",
       "      <td>7.68</td>\n",
       "      <td>25.06</td>\n",
       "      <td>19.54</td>\n",
       "      <td>12.47</td>\n",
       "      <td>0.47</td>\n",
       "      <td>8.55</td>\n",
       "      <td>23.30</td>\n",
       "      <td>2.24</td>\n",
       "      <td>12.07</td>\n",
       "      <td>0.73</td>\n",
       "      <td>41.0</td>\n",
       "      <td>Good</td>\n",
       "    </tr>\n",
       "    <tr>\n",
       "      <th>2020-06-28</th>\n",
       "      <td>Visakhapatnam</td>\n",
       "      <td>24.38</td>\n",
       "      <td>74.09</td>\n",
       "      <td>3.42</td>\n",
       "      <td>26.06</td>\n",
       "      <td>16.53</td>\n",
       "      <td>11.99</td>\n",
       "      <td>0.52</td>\n",
       "      <td>12.72</td>\n",
       "      <td>30.14</td>\n",
       "      <td>0.74</td>\n",
       "      <td>2.21</td>\n",
       "      <td>0.38</td>\n",
       "      <td>70.0</td>\n",
       "      <td>Satisfactory</td>\n",
       "    </tr>\n",
       "    <tr>\n",
       "      <th>2020-06-29</th>\n",
       "      <td>Visakhapatnam</td>\n",
       "      <td>22.91</td>\n",
       "      <td>65.73</td>\n",
       "      <td>3.45</td>\n",
       "      <td>29.53</td>\n",
       "      <td>18.33</td>\n",
       "      <td>10.71</td>\n",
       "      <td>0.48</td>\n",
       "      <td>8.42</td>\n",
       "      <td>30.96</td>\n",
       "      <td>0.01</td>\n",
       "      <td>0.01</td>\n",
       "      <td>0.00</td>\n",
       "      <td>68.0</td>\n",
       "      <td>Satisfactory</td>\n",
       "    </tr>\n",
       "    <tr>\n",
       "      <th>2020-06-30</th>\n",
       "      <td>Visakhapatnam</td>\n",
       "      <td>16.64</td>\n",
       "      <td>49.97</td>\n",
       "      <td>4.05</td>\n",
       "      <td>29.26</td>\n",
       "      <td>18.80</td>\n",
       "      <td>10.03</td>\n",
       "      <td>0.52</td>\n",
       "      <td>9.84</td>\n",
       "      <td>28.30</td>\n",
       "      <td>0.00</td>\n",
       "      <td>0.00</td>\n",
       "      <td>0.00</td>\n",
       "      <td>54.0</td>\n",
       "      <td>Satisfactory</td>\n",
       "    </tr>\n",
       "    <tr>\n",
       "      <th>2020-07-01</th>\n",
       "      <td>Visakhapatnam</td>\n",
       "      <td>15.00</td>\n",
       "      <td>66.00</td>\n",
       "      <td>0.40</td>\n",
       "      <td>26.85</td>\n",
       "      <td>14.05</td>\n",
       "      <td>5.20</td>\n",
       "      <td>0.59</td>\n",
       "      <td>2.10</td>\n",
       "      <td>17.05</td>\n",
       "      <td>NaN</td>\n",
       "      <td>NaN</td>\n",
       "      <td>NaN</td>\n",
       "      <td>50.0</td>\n",
       "      <td>Good</td>\n",
       "    </tr>\n",
       "  </tbody>\n",
       "</table>\n",
       "<p>29531 rows × 15 columns</p>\n",
       "</div>"
      ],
      "text/plain": [
       "                     City  PM2.5   PM10     NO    NO2    NOx    NH3     CO  \\\n",
       "Date                                                                         \n",
       "2015-01-01      Ahmedabad    NaN    NaN   0.92  18.22  17.15    NaN   0.92   \n",
       "2015-01-02      Ahmedabad    NaN    NaN   0.97  15.69  16.46    NaN   0.97   \n",
       "2015-01-03      Ahmedabad    NaN    NaN  17.40  19.30  29.70    NaN  17.40   \n",
       "2015-01-04      Ahmedabad    NaN    NaN   1.70  18.48  17.97    NaN   1.70   \n",
       "2015-01-05      Ahmedabad    NaN    NaN  22.10  21.42  37.76    NaN  22.10   \n",
       "...                   ...    ...    ...    ...    ...    ...    ...    ...   \n",
       "2020-06-27  Visakhapatnam  15.02  50.94   7.68  25.06  19.54  12.47   0.47   \n",
       "2020-06-28  Visakhapatnam  24.38  74.09   3.42  26.06  16.53  11.99   0.52   \n",
       "2020-06-29  Visakhapatnam  22.91  65.73   3.45  29.53  18.33  10.71   0.48   \n",
       "2020-06-30  Visakhapatnam  16.64  49.97   4.05  29.26  18.80  10.03   0.52   \n",
       "2020-07-01  Visakhapatnam  15.00  66.00   0.40  26.85  14.05   5.20   0.59   \n",
       "\n",
       "              SO2      O3  Benzene  Toluene  Xylene   AQI    AQI_Bucket  \n",
       "Date                                                                     \n",
       "2015-01-01  27.64  133.36     0.00     0.02    0.00   NaN           NaN  \n",
       "2015-01-02  24.55   34.06     3.68     5.50    3.77   NaN           NaN  \n",
       "2015-01-03  29.07   30.70     6.80    16.40    2.25   NaN           NaN  \n",
       "2015-01-04  18.59   36.08     4.43    10.14    1.00   NaN           NaN  \n",
       "2015-01-05  39.33   39.31     7.01    18.89    2.78   NaN           NaN  \n",
       "...           ...     ...      ...      ...     ...   ...           ...  \n",
       "2020-06-27   8.55   23.30     2.24    12.07    0.73  41.0          Good  \n",
       "2020-06-28  12.72   30.14     0.74     2.21    0.38  70.0  Satisfactory  \n",
       "2020-06-29   8.42   30.96     0.01     0.01    0.00  68.0  Satisfactory  \n",
       "2020-06-30   9.84   28.30     0.00     0.00    0.00  54.0  Satisfactory  \n",
       "2020-07-01   2.10   17.05      NaN      NaN     NaN  50.0          Good  \n",
       "\n",
       "[29531 rows x 15 columns]"
      ]
     },
     "execution_count": 6,
     "metadata": {},
     "output_type": "execute_result"
    }
   ],
   "source": [
    "df"
   ]
  },
  {
   "cell_type": "markdown",
   "id": "330fe9de",
   "metadata": {},
   "source": [
    "# Analysis of Variance (ANOVA) to check if 'AQI' and 'AQI_Bucket' columns are the same"
   ]
  },
  {
   "cell_type": "code",
   "execution_count": 7,
   "id": "f9423311",
   "metadata": {},
   "outputs": [
    {
     "data": {
      "text/plain": [
       "F_onewayResult(statistic=21992.753952732455, pvalue=0.0)"
      ]
     },
     "execution_count": 7,
     "metadata": {},
     "output_type": "execute_result"
    }
   ],
   "source": [
    "# Using f_oneway from scipy.stats to perform ANOVA\n",
    "# This tests if there's a significant difference in 'AQI' values among different 'AQI_Bucket' categories\n",
    "from scipy.stats import f_oneway\n",
    "# ANOVA\n",
    "m1=df['AQI_Bucket']=='Moderate' \n",
    "m2=df['AQI_Bucket']=='Satisfactory'\n",
    "m3=df['AQI_Bucket']=='Poor'\n",
    "m4=df['AQI_Bucket']=='Very Poor' \n",
    "m5=df['AQI_Bucket']=='Good'\n",
    "m6=df['AQI_Bucket']=='Severe'\n",
    "\n",
    "f_oneway(df[m1]['AQI'],df[m2]['AQI'],df[m3]['AQI'],df[m4]['AQI'],df[m5]['AQI'],df[m6]['AQI'])"
   ]
  },
  {
   "cell_type": "code",
   "execution_count": 8,
   "id": "3c145a0a",
   "metadata": {},
   "outputs": [],
   "source": [
    "# since p value is 0 we can asume that AQI and AQI_Bucket are nothing but same colums"
   ]
  },
  {
   "cell_type": "code",
   "execution_count": 9,
   "id": "290a4139",
   "metadata": {},
   "outputs": [
    {
     "data": {
      "text/plain": [
       "City              0\n",
       "PM2.5          4598\n",
       "PM10          11140\n",
       "NO             3582\n",
       "NO2            3585\n",
       "NOx            4185\n",
       "NH3           10328\n",
       "CO             2059\n",
       "SO2            3854\n",
       "O3             4022\n",
       "Benzene        5623\n",
       "Toluene        8041\n",
       "Xylene        18109\n",
       "AQI            4681\n",
       "AQI_Bucket     4681\n",
       "dtype: int64"
      ]
     },
     "execution_count": 9,
     "metadata": {},
     "output_type": "execute_result"
    }
   ],
   "source": [
    "# checking for missing values\n",
    "df.isna().sum()"
   ]
  },
  {
   "cell_type": "code",
   "execution_count": 10,
   "id": "aede659e",
   "metadata": {},
   "outputs": [
    {
     "data": {
      "text/html": [
       "<div>\n",
       "<style scoped>\n",
       "    .dataframe tbody tr th:only-of-type {\n",
       "        vertical-align: middle;\n",
       "    }\n",
       "\n",
       "    .dataframe tbody tr th {\n",
       "        vertical-align: top;\n",
       "    }\n",
       "\n",
       "    .dataframe thead th {\n",
       "        text-align: right;\n",
       "    }\n",
       "</style>\n",
       "<table border=\"1\" class=\"dataframe\">\n",
       "  <thead>\n",
       "    <tr style=\"text-align: right;\">\n",
       "      <th></th>\n",
       "      <th>PM2.5</th>\n",
       "      <th>PM10</th>\n",
       "      <th>NO</th>\n",
       "      <th>NO2</th>\n",
       "      <th>NOx</th>\n",
       "      <th>NH3</th>\n",
       "      <th>CO</th>\n",
       "      <th>SO2</th>\n",
       "      <th>O3</th>\n",
       "      <th>Benzene</th>\n",
       "      <th>Toluene</th>\n",
       "      <th>Xylene</th>\n",
       "      <th>AQI</th>\n",
       "    </tr>\n",
       "  </thead>\n",
       "  <tbody>\n",
       "    <tr>\n",
       "      <th>PM2.5</th>\n",
       "      <td>NaN</td>\n",
       "      <td>NaN</td>\n",
       "      <td>NaN</td>\n",
       "      <td>NaN</td>\n",
       "      <td>NaN</td>\n",
       "      <td>NaN</td>\n",
       "      <td>0.089912</td>\n",
       "      <td>0.132325</td>\n",
       "      <td>0.161238</td>\n",
       "      <td>0.023911</td>\n",
       "      <td>0.117080</td>\n",
       "      <td>0.114579</td>\n",
       "      <td>NaN</td>\n",
       "    </tr>\n",
       "    <tr>\n",
       "      <th>PM10</th>\n",
       "      <td>NaN</td>\n",
       "      <td>NaN</td>\n",
       "      <td>NaN</td>\n",
       "      <td>NaN</td>\n",
       "      <td>NaN</td>\n",
       "      <td>NaN</td>\n",
       "      <td>0.112588</td>\n",
       "      <td>NaN</td>\n",
       "      <td>NaN</td>\n",
       "      <td>0.022265</td>\n",
       "      <td>0.169335</td>\n",
       "      <td>0.081700</td>\n",
       "      <td>NaN</td>\n",
       "    </tr>\n",
       "    <tr>\n",
       "      <th>NO</th>\n",
       "      <td>NaN</td>\n",
       "      <td>NaN</td>\n",
       "      <td>NaN</td>\n",
       "      <td>NaN</td>\n",
       "      <td>NaN</td>\n",
       "      <td>0.185621</td>\n",
       "      <td>NaN</td>\n",
       "      <td>0.170322</td>\n",
       "      <td>0.014580</td>\n",
       "      <td>0.035771</td>\n",
       "      <td>0.150857</td>\n",
       "      <td>0.094237</td>\n",
       "      <td>NaN</td>\n",
       "    </tr>\n",
       "    <tr>\n",
       "      <th>NO2</th>\n",
       "      <td>NaN</td>\n",
       "      <td>NaN</td>\n",
       "      <td>NaN</td>\n",
       "      <td>NaN</td>\n",
       "      <td>NaN</td>\n",
       "      <td>NaN</td>\n",
       "      <td>NaN</td>\n",
       "      <td>NaN</td>\n",
       "      <td>NaN</td>\n",
       "      <td>0.025260</td>\n",
       "      <td>NaN</td>\n",
       "      <td>0.171701</td>\n",
       "      <td>NaN</td>\n",
       "    </tr>\n",
       "    <tr>\n",
       "      <th>NOx</th>\n",
       "      <td>NaN</td>\n",
       "      <td>NaN</td>\n",
       "      <td>NaN</td>\n",
       "      <td>NaN</td>\n",
       "      <td>NaN</td>\n",
       "      <td>0.166224</td>\n",
       "      <td>NaN</td>\n",
       "      <td>NaN</td>\n",
       "      <td>0.093170</td>\n",
       "      <td>0.039121</td>\n",
       "      <td>0.189386</td>\n",
       "      <td>0.087398</td>\n",
       "      <td>NaN</td>\n",
       "    </tr>\n",
       "    <tr>\n",
       "      <th>NH3</th>\n",
       "      <td>NaN</td>\n",
       "      <td>NaN</td>\n",
       "      <td>0.185621</td>\n",
       "      <td>NaN</td>\n",
       "      <td>0.166224</td>\n",
       "      <td>NaN</td>\n",
       "      <td>0.104891</td>\n",
       "      <td>-0.038998</td>\n",
       "      <td>0.094972</td>\n",
       "      <td>-0.015650</td>\n",
       "      <td>0.013227</td>\n",
       "      <td>-0.019813</td>\n",
       "      <td>NaN</td>\n",
       "    </tr>\n",
       "    <tr>\n",
       "      <th>CO</th>\n",
       "      <td>0.089912</td>\n",
       "      <td>0.112588</td>\n",
       "      <td>NaN</td>\n",
       "      <td>NaN</td>\n",
       "      <td>NaN</td>\n",
       "      <td>0.104891</td>\n",
       "      <td>NaN</td>\n",
       "      <td>NaN</td>\n",
       "      <td>0.041736</td>\n",
       "      <td>0.061861</td>\n",
       "      <td>NaN</td>\n",
       "      <td>0.154889</td>\n",
       "      <td>NaN</td>\n",
       "    </tr>\n",
       "    <tr>\n",
       "      <th>SO2</th>\n",
       "      <td>0.132325</td>\n",
       "      <td>NaN</td>\n",
       "      <td>0.170322</td>\n",
       "      <td>NaN</td>\n",
       "      <td>NaN</td>\n",
       "      <td>-0.038998</td>\n",
       "      <td>NaN</td>\n",
       "      <td>NaN</td>\n",
       "      <td>0.162142</td>\n",
       "      <td>0.036110</td>\n",
       "      <td>NaN</td>\n",
       "      <td>NaN</td>\n",
       "      <td>NaN</td>\n",
       "    </tr>\n",
       "    <tr>\n",
       "      <th>O3</th>\n",
       "      <td>0.161238</td>\n",
       "      <td>NaN</td>\n",
       "      <td>0.014580</td>\n",
       "      <td>NaN</td>\n",
       "      <td>0.093170</td>\n",
       "      <td>0.094972</td>\n",
       "      <td>0.041736</td>\n",
       "      <td>0.162142</td>\n",
       "      <td>NaN</td>\n",
       "      <td>0.020255</td>\n",
       "      <td>0.130209</td>\n",
       "      <td>0.111410</td>\n",
       "      <td>0.198991</td>\n",
       "    </tr>\n",
       "    <tr>\n",
       "      <th>Benzene</th>\n",
       "      <td>0.023911</td>\n",
       "      <td>0.022265</td>\n",
       "      <td>0.035771</td>\n",
       "      <td>0.025260</td>\n",
       "      <td>0.039121</td>\n",
       "      <td>-0.015650</td>\n",
       "      <td>0.061861</td>\n",
       "      <td>0.036110</td>\n",
       "      <td>0.020255</td>\n",
       "      <td>NaN</td>\n",
       "      <td>NaN</td>\n",
       "      <td>NaN</td>\n",
       "      <td>0.044407</td>\n",
       "    </tr>\n",
       "    <tr>\n",
       "      <th>Toluene</th>\n",
       "      <td>0.117080</td>\n",
       "      <td>0.169335</td>\n",
       "      <td>0.150857</td>\n",
       "      <td>NaN</td>\n",
       "      <td>0.189386</td>\n",
       "      <td>0.013227</td>\n",
       "      <td>NaN</td>\n",
       "      <td>NaN</td>\n",
       "      <td>0.130209</td>\n",
       "      <td>NaN</td>\n",
       "      <td>NaN</td>\n",
       "      <td>NaN</td>\n",
       "      <td>NaN</td>\n",
       "    </tr>\n",
       "    <tr>\n",
       "      <th>Xylene</th>\n",
       "      <td>0.114579</td>\n",
       "      <td>0.081700</td>\n",
       "      <td>0.094237</td>\n",
       "      <td>0.171701</td>\n",
       "      <td>0.087398</td>\n",
       "      <td>-0.019813</td>\n",
       "      <td>0.154889</td>\n",
       "      <td>NaN</td>\n",
       "      <td>0.111410</td>\n",
       "      <td>NaN</td>\n",
       "      <td>NaN</td>\n",
       "      <td>NaN</td>\n",
       "      <td>0.165532</td>\n",
       "    </tr>\n",
       "    <tr>\n",
       "      <th>AQI</th>\n",
       "      <td>NaN</td>\n",
       "      <td>NaN</td>\n",
       "      <td>NaN</td>\n",
       "      <td>NaN</td>\n",
       "      <td>NaN</td>\n",
       "      <td>NaN</td>\n",
       "      <td>NaN</td>\n",
       "      <td>NaN</td>\n",
       "      <td>0.198991</td>\n",
       "      <td>0.044407</td>\n",
       "      <td>NaN</td>\n",
       "      <td>0.165532</td>\n",
       "      <td>NaN</td>\n",
       "    </tr>\n",
       "  </tbody>\n",
       "</table>\n",
       "</div>"
      ],
      "text/plain": [
       "            PM2.5      PM10        NO       NO2       NOx       NH3        CO  \\\n",
       "PM2.5         NaN       NaN       NaN       NaN       NaN       NaN  0.089912   \n",
       "PM10          NaN       NaN       NaN       NaN       NaN       NaN  0.112588   \n",
       "NO            NaN       NaN       NaN       NaN       NaN  0.185621       NaN   \n",
       "NO2           NaN       NaN       NaN       NaN       NaN       NaN       NaN   \n",
       "NOx           NaN       NaN       NaN       NaN       NaN  0.166224       NaN   \n",
       "NH3           NaN       NaN  0.185621       NaN  0.166224       NaN  0.104891   \n",
       "CO       0.089912  0.112588       NaN       NaN       NaN  0.104891       NaN   \n",
       "SO2      0.132325       NaN  0.170322       NaN       NaN -0.038998       NaN   \n",
       "O3       0.161238       NaN  0.014580       NaN  0.093170  0.094972  0.041736   \n",
       "Benzene  0.023911  0.022265  0.035771  0.025260  0.039121 -0.015650  0.061861   \n",
       "Toluene  0.117080  0.169335  0.150857       NaN  0.189386  0.013227       NaN   \n",
       "Xylene   0.114579  0.081700  0.094237  0.171701  0.087398 -0.019813  0.154889   \n",
       "AQI           NaN       NaN       NaN       NaN       NaN       NaN       NaN   \n",
       "\n",
       "              SO2        O3   Benzene   Toluene    Xylene       AQI  \n",
       "PM2.5    0.132325  0.161238  0.023911  0.117080  0.114579       NaN  \n",
       "PM10          NaN       NaN  0.022265  0.169335  0.081700       NaN  \n",
       "NO       0.170322  0.014580  0.035771  0.150857  0.094237       NaN  \n",
       "NO2           NaN       NaN  0.025260       NaN  0.171701       NaN  \n",
       "NOx           NaN  0.093170  0.039121  0.189386  0.087398       NaN  \n",
       "NH3     -0.038998  0.094972 -0.015650  0.013227 -0.019813       NaN  \n",
       "CO            NaN  0.041736  0.061861       NaN  0.154889       NaN  \n",
       "SO2           NaN  0.162142  0.036110       NaN       NaN       NaN  \n",
       "O3       0.162142       NaN  0.020255  0.130209  0.111410  0.198991  \n",
       "Benzene  0.036110  0.020255       NaN       NaN       NaN  0.044407  \n",
       "Toluene       NaN  0.130209       NaN       NaN       NaN       NaN  \n",
       "Xylene        NaN  0.111410       NaN       NaN       NaN  0.165532  \n",
       "AQI           NaN  0.198991  0.044407       NaN  0.165532       NaN  "
      ]
     },
     "execution_count": 10,
     "metadata": {},
     "output_type": "execute_result"
    }
   ],
   "source": [
    "# Creating a mask to identify columns with correlation coefficients <= 0.2\n",
    "mask=df.corr()<=0.2\n",
    "df.corr()[mask]"
   ]
  },
  {
   "cell_type": "code",
   "execution_count": 11,
   "id": "6dd0d750",
   "metadata": {},
   "outputs": [
    {
     "data": {
      "text/html": [
       "<div>\n",
       "<style scoped>\n",
       "    .dataframe tbody tr th:only-of-type {\n",
       "        vertical-align: middle;\n",
       "    }\n",
       "\n",
       "    .dataframe tbody tr th {\n",
       "        vertical-align: top;\n",
       "    }\n",
       "\n",
       "    .dataframe thead th {\n",
       "        text-align: right;\n",
       "    }\n",
       "</style>\n",
       "<table border=\"1\" class=\"dataframe\">\n",
       "  <thead>\n",
       "    <tr style=\"text-align: right;\">\n",
       "      <th></th>\n",
       "      <th>City</th>\n",
       "      <th>PM2.5</th>\n",
       "      <th>PM10</th>\n",
       "      <th>NO</th>\n",
       "      <th>NO2</th>\n",
       "      <th>NOx</th>\n",
       "      <th>NH3</th>\n",
       "      <th>CO</th>\n",
       "      <th>SO2</th>\n",
       "      <th>O3</th>\n",
       "      <th>Benzene</th>\n",
       "      <th>Toluene</th>\n",
       "      <th>Xylene</th>\n",
       "      <th>AQI</th>\n",
       "      <th>AQI_Bucket</th>\n",
       "    </tr>\n",
       "    <tr>\n",
       "      <th>Date</th>\n",
       "      <th></th>\n",
       "      <th></th>\n",
       "      <th></th>\n",
       "      <th></th>\n",
       "      <th></th>\n",
       "      <th></th>\n",
       "      <th></th>\n",
       "      <th></th>\n",
       "      <th></th>\n",
       "      <th></th>\n",
       "      <th></th>\n",
       "      <th></th>\n",
       "      <th></th>\n",
       "      <th></th>\n",
       "      <th></th>\n",
       "    </tr>\n",
       "  </thead>\n",
       "  <tbody>\n",
       "    <tr>\n",
       "      <th>2015-01-01</th>\n",
       "      <td>Ahmedabad</td>\n",
       "      <td>NaN</td>\n",
       "      <td>NaN</td>\n",
       "      <td>0.92</td>\n",
       "      <td>18.22</td>\n",
       "      <td>17.15</td>\n",
       "      <td>NaN</td>\n",
       "      <td>0.92</td>\n",
       "      <td>27.64</td>\n",
       "      <td>133.36</td>\n",
       "      <td>0.00</td>\n",
       "      <td>0.02</td>\n",
       "      <td>0.00</td>\n",
       "      <td>NaN</td>\n",
       "      <td>NaN</td>\n",
       "    </tr>\n",
       "    <tr>\n",
       "      <th>2015-01-02</th>\n",
       "      <td>Ahmedabad</td>\n",
       "      <td>NaN</td>\n",
       "      <td>NaN</td>\n",
       "      <td>0.97</td>\n",
       "      <td>15.69</td>\n",
       "      <td>16.46</td>\n",
       "      <td>NaN</td>\n",
       "      <td>0.97</td>\n",
       "      <td>24.55</td>\n",
       "      <td>34.06</td>\n",
       "      <td>3.68</td>\n",
       "      <td>5.50</td>\n",
       "      <td>3.77</td>\n",
       "      <td>NaN</td>\n",
       "      <td>NaN</td>\n",
       "    </tr>\n",
       "    <tr>\n",
       "      <th>2015-01-03</th>\n",
       "      <td>Ahmedabad</td>\n",
       "      <td>NaN</td>\n",
       "      <td>NaN</td>\n",
       "      <td>17.40</td>\n",
       "      <td>19.30</td>\n",
       "      <td>29.70</td>\n",
       "      <td>NaN</td>\n",
       "      <td>17.40</td>\n",
       "      <td>29.07</td>\n",
       "      <td>30.70</td>\n",
       "      <td>6.80</td>\n",
       "      <td>16.40</td>\n",
       "      <td>2.25</td>\n",
       "      <td>NaN</td>\n",
       "      <td>NaN</td>\n",
       "    </tr>\n",
       "    <tr>\n",
       "      <th>2015-01-04</th>\n",
       "      <td>Ahmedabad</td>\n",
       "      <td>NaN</td>\n",
       "      <td>NaN</td>\n",
       "      <td>1.70</td>\n",
       "      <td>18.48</td>\n",
       "      <td>17.97</td>\n",
       "      <td>NaN</td>\n",
       "      <td>1.70</td>\n",
       "      <td>18.59</td>\n",
       "      <td>36.08</td>\n",
       "      <td>4.43</td>\n",
       "      <td>10.14</td>\n",
       "      <td>1.00</td>\n",
       "      <td>NaN</td>\n",
       "      <td>NaN</td>\n",
       "    </tr>\n",
       "    <tr>\n",
       "      <th>2015-01-05</th>\n",
       "      <td>Ahmedabad</td>\n",
       "      <td>NaN</td>\n",
       "      <td>NaN</td>\n",
       "      <td>22.10</td>\n",
       "      <td>21.42</td>\n",
       "      <td>37.76</td>\n",
       "      <td>NaN</td>\n",
       "      <td>22.10</td>\n",
       "      <td>39.33</td>\n",
       "      <td>39.31</td>\n",
       "      <td>7.01</td>\n",
       "      <td>18.89</td>\n",
       "      <td>2.78</td>\n",
       "      <td>NaN</td>\n",
       "      <td>NaN</td>\n",
       "    </tr>\n",
       "    <tr>\n",
       "      <th>...</th>\n",
       "      <td>...</td>\n",
       "      <td>...</td>\n",
       "      <td>...</td>\n",
       "      <td>...</td>\n",
       "      <td>...</td>\n",
       "      <td>...</td>\n",
       "      <td>...</td>\n",
       "      <td>...</td>\n",
       "      <td>...</td>\n",
       "      <td>...</td>\n",
       "      <td>...</td>\n",
       "      <td>...</td>\n",
       "      <td>...</td>\n",
       "      <td>...</td>\n",
       "      <td>...</td>\n",
       "    </tr>\n",
       "    <tr>\n",
       "      <th>2020-06-27</th>\n",
       "      <td>Visakhapatnam</td>\n",
       "      <td>15.02</td>\n",
       "      <td>50.94</td>\n",
       "      <td>7.68</td>\n",
       "      <td>25.06</td>\n",
       "      <td>19.54</td>\n",
       "      <td>12.47</td>\n",
       "      <td>0.47</td>\n",
       "      <td>8.55</td>\n",
       "      <td>23.30</td>\n",
       "      <td>2.24</td>\n",
       "      <td>12.07</td>\n",
       "      <td>0.73</td>\n",
       "      <td>41.0</td>\n",
       "      <td>Good</td>\n",
       "    </tr>\n",
       "    <tr>\n",
       "      <th>2020-06-28</th>\n",
       "      <td>Visakhapatnam</td>\n",
       "      <td>24.38</td>\n",
       "      <td>74.09</td>\n",
       "      <td>3.42</td>\n",
       "      <td>26.06</td>\n",
       "      <td>16.53</td>\n",
       "      <td>11.99</td>\n",
       "      <td>0.52</td>\n",
       "      <td>12.72</td>\n",
       "      <td>30.14</td>\n",
       "      <td>0.74</td>\n",
       "      <td>2.21</td>\n",
       "      <td>0.38</td>\n",
       "      <td>70.0</td>\n",
       "      <td>Satisfactory</td>\n",
       "    </tr>\n",
       "    <tr>\n",
       "      <th>2020-06-29</th>\n",
       "      <td>Visakhapatnam</td>\n",
       "      <td>22.91</td>\n",
       "      <td>65.73</td>\n",
       "      <td>3.45</td>\n",
       "      <td>29.53</td>\n",
       "      <td>18.33</td>\n",
       "      <td>10.71</td>\n",
       "      <td>0.48</td>\n",
       "      <td>8.42</td>\n",
       "      <td>30.96</td>\n",
       "      <td>0.01</td>\n",
       "      <td>0.01</td>\n",
       "      <td>0.00</td>\n",
       "      <td>68.0</td>\n",
       "      <td>Satisfactory</td>\n",
       "    </tr>\n",
       "    <tr>\n",
       "      <th>2020-06-30</th>\n",
       "      <td>Visakhapatnam</td>\n",
       "      <td>16.64</td>\n",
       "      <td>49.97</td>\n",
       "      <td>4.05</td>\n",
       "      <td>29.26</td>\n",
       "      <td>18.80</td>\n",
       "      <td>10.03</td>\n",
       "      <td>0.52</td>\n",
       "      <td>9.84</td>\n",
       "      <td>28.30</td>\n",
       "      <td>0.00</td>\n",
       "      <td>0.00</td>\n",
       "      <td>0.00</td>\n",
       "      <td>54.0</td>\n",
       "      <td>Satisfactory</td>\n",
       "    </tr>\n",
       "    <tr>\n",
       "      <th>2020-07-01</th>\n",
       "      <td>Visakhapatnam</td>\n",
       "      <td>15.00</td>\n",
       "      <td>66.00</td>\n",
       "      <td>0.40</td>\n",
       "      <td>26.85</td>\n",
       "      <td>14.05</td>\n",
       "      <td>5.20</td>\n",
       "      <td>0.59</td>\n",
       "      <td>2.10</td>\n",
       "      <td>17.05</td>\n",
       "      <td>NaN</td>\n",
       "      <td>NaN</td>\n",
       "      <td>NaN</td>\n",
       "      <td>50.0</td>\n",
       "      <td>Good</td>\n",
       "    </tr>\n",
       "  </tbody>\n",
       "</table>\n",
       "<p>29531 rows × 15 columns</p>\n",
       "</div>"
      ],
      "text/plain": [
       "                     City  PM2.5   PM10     NO    NO2    NOx    NH3     CO  \\\n",
       "Date                                                                         \n",
       "2015-01-01      Ahmedabad    NaN    NaN   0.92  18.22  17.15    NaN   0.92   \n",
       "2015-01-02      Ahmedabad    NaN    NaN   0.97  15.69  16.46    NaN   0.97   \n",
       "2015-01-03      Ahmedabad    NaN    NaN  17.40  19.30  29.70    NaN  17.40   \n",
       "2015-01-04      Ahmedabad    NaN    NaN   1.70  18.48  17.97    NaN   1.70   \n",
       "2015-01-05      Ahmedabad    NaN    NaN  22.10  21.42  37.76    NaN  22.10   \n",
       "...                   ...    ...    ...    ...    ...    ...    ...    ...   \n",
       "2020-06-27  Visakhapatnam  15.02  50.94   7.68  25.06  19.54  12.47   0.47   \n",
       "2020-06-28  Visakhapatnam  24.38  74.09   3.42  26.06  16.53  11.99   0.52   \n",
       "2020-06-29  Visakhapatnam  22.91  65.73   3.45  29.53  18.33  10.71   0.48   \n",
       "2020-06-30  Visakhapatnam  16.64  49.97   4.05  29.26  18.80  10.03   0.52   \n",
       "2020-07-01  Visakhapatnam  15.00  66.00   0.40  26.85  14.05   5.20   0.59   \n",
       "\n",
       "              SO2      O3  Benzene  Toluene  Xylene   AQI    AQI_Bucket  \n",
       "Date                                                                     \n",
       "2015-01-01  27.64  133.36     0.00     0.02    0.00   NaN           NaN  \n",
       "2015-01-02  24.55   34.06     3.68     5.50    3.77   NaN           NaN  \n",
       "2015-01-03  29.07   30.70     6.80    16.40    2.25   NaN           NaN  \n",
       "2015-01-04  18.59   36.08     4.43    10.14    1.00   NaN           NaN  \n",
       "2015-01-05  39.33   39.31     7.01    18.89    2.78   NaN           NaN  \n",
       "...           ...     ...      ...      ...     ...   ...           ...  \n",
       "2020-06-27   8.55   23.30     2.24    12.07    0.73  41.0          Good  \n",
       "2020-06-28  12.72   30.14     0.74     2.21    0.38  70.0  Satisfactory  \n",
       "2020-06-29   8.42   30.96     0.01     0.01    0.00  68.0  Satisfactory  \n",
       "2020-06-30   9.84   28.30     0.00     0.00    0.00  54.0  Satisfactory  \n",
       "2020-07-01   2.10   17.05      NaN      NaN     NaN  50.0          Good  \n",
       "\n",
       "[29531 rows x 15 columns]"
      ]
     },
     "execution_count": 11,
     "metadata": {},
     "output_type": "execute_result"
    }
   ],
   "source": [
    "df"
   ]
  },
  {
   "cell_type": "code",
   "execution_count": 12,
   "id": "711eb2ac",
   "metadata": {},
   "outputs": [],
   "source": [
    "# since 'O3' ,'benzen' and 'Xylen' have less correlation with y. we will remove them\n",
    "df=df.iloc[:,[0,1,2,3,4,5,6,7,8,11,13,14]]"
   ]
  },
  {
   "cell_type": "code",
   "execution_count": 13,
   "id": "eedfb584",
   "metadata": {},
   "outputs": [
    {
     "data": {
      "text/html": [
       "<div>\n",
       "<style scoped>\n",
       "    .dataframe tbody tr th:only-of-type {\n",
       "        vertical-align: middle;\n",
       "    }\n",
       "\n",
       "    .dataframe tbody tr th {\n",
       "        vertical-align: top;\n",
       "    }\n",
       "\n",
       "    .dataframe thead th {\n",
       "        text-align: right;\n",
       "    }\n",
       "</style>\n",
       "<table border=\"1\" class=\"dataframe\">\n",
       "  <thead>\n",
       "    <tr style=\"text-align: right;\">\n",
       "      <th></th>\n",
       "      <th>City</th>\n",
       "      <th>PM2.5</th>\n",
       "      <th>PM10</th>\n",
       "      <th>NO</th>\n",
       "      <th>NO2</th>\n",
       "      <th>NOx</th>\n",
       "      <th>NH3</th>\n",
       "      <th>CO</th>\n",
       "      <th>SO2</th>\n",
       "      <th>Toluene</th>\n",
       "      <th>AQI</th>\n",
       "      <th>AQI_Bucket</th>\n",
       "    </tr>\n",
       "    <tr>\n",
       "      <th>Date</th>\n",
       "      <th></th>\n",
       "      <th></th>\n",
       "      <th></th>\n",
       "      <th></th>\n",
       "      <th></th>\n",
       "      <th></th>\n",
       "      <th></th>\n",
       "      <th></th>\n",
       "      <th></th>\n",
       "      <th></th>\n",
       "      <th></th>\n",
       "      <th></th>\n",
       "    </tr>\n",
       "  </thead>\n",
       "  <tbody>\n",
       "    <tr>\n",
       "      <th>2015-01-01</th>\n",
       "      <td>Ahmedabad</td>\n",
       "      <td>NaN</td>\n",
       "      <td>NaN</td>\n",
       "      <td>0.92</td>\n",
       "      <td>18.22</td>\n",
       "      <td>17.15</td>\n",
       "      <td>NaN</td>\n",
       "      <td>0.92</td>\n",
       "      <td>27.64</td>\n",
       "      <td>0.02</td>\n",
       "      <td>NaN</td>\n",
       "      <td>NaN</td>\n",
       "    </tr>\n",
       "    <tr>\n",
       "      <th>2015-01-02</th>\n",
       "      <td>Ahmedabad</td>\n",
       "      <td>NaN</td>\n",
       "      <td>NaN</td>\n",
       "      <td>0.97</td>\n",
       "      <td>15.69</td>\n",
       "      <td>16.46</td>\n",
       "      <td>NaN</td>\n",
       "      <td>0.97</td>\n",
       "      <td>24.55</td>\n",
       "      <td>5.50</td>\n",
       "      <td>NaN</td>\n",
       "      <td>NaN</td>\n",
       "    </tr>\n",
       "    <tr>\n",
       "      <th>2015-01-03</th>\n",
       "      <td>Ahmedabad</td>\n",
       "      <td>NaN</td>\n",
       "      <td>NaN</td>\n",
       "      <td>17.40</td>\n",
       "      <td>19.30</td>\n",
       "      <td>29.70</td>\n",
       "      <td>NaN</td>\n",
       "      <td>17.40</td>\n",
       "      <td>29.07</td>\n",
       "      <td>16.40</td>\n",
       "      <td>NaN</td>\n",
       "      <td>NaN</td>\n",
       "    </tr>\n",
       "    <tr>\n",
       "      <th>2015-01-04</th>\n",
       "      <td>Ahmedabad</td>\n",
       "      <td>NaN</td>\n",
       "      <td>NaN</td>\n",
       "      <td>1.70</td>\n",
       "      <td>18.48</td>\n",
       "      <td>17.97</td>\n",
       "      <td>NaN</td>\n",
       "      <td>1.70</td>\n",
       "      <td>18.59</td>\n",
       "      <td>10.14</td>\n",
       "      <td>NaN</td>\n",
       "      <td>NaN</td>\n",
       "    </tr>\n",
       "    <tr>\n",
       "      <th>2015-01-05</th>\n",
       "      <td>Ahmedabad</td>\n",
       "      <td>NaN</td>\n",
       "      <td>NaN</td>\n",
       "      <td>22.10</td>\n",
       "      <td>21.42</td>\n",
       "      <td>37.76</td>\n",
       "      <td>NaN</td>\n",
       "      <td>22.10</td>\n",
       "      <td>39.33</td>\n",
       "      <td>18.89</td>\n",
       "      <td>NaN</td>\n",
       "      <td>NaN</td>\n",
       "    </tr>\n",
       "    <tr>\n",
       "      <th>...</th>\n",
       "      <td>...</td>\n",
       "      <td>...</td>\n",
       "      <td>...</td>\n",
       "      <td>...</td>\n",
       "      <td>...</td>\n",
       "      <td>...</td>\n",
       "      <td>...</td>\n",
       "      <td>...</td>\n",
       "      <td>...</td>\n",
       "      <td>...</td>\n",
       "      <td>...</td>\n",
       "      <td>...</td>\n",
       "    </tr>\n",
       "    <tr>\n",
       "      <th>2020-06-27</th>\n",
       "      <td>Visakhapatnam</td>\n",
       "      <td>15.02</td>\n",
       "      <td>50.94</td>\n",
       "      <td>7.68</td>\n",
       "      <td>25.06</td>\n",
       "      <td>19.54</td>\n",
       "      <td>12.47</td>\n",
       "      <td>0.47</td>\n",
       "      <td>8.55</td>\n",
       "      <td>12.07</td>\n",
       "      <td>41.0</td>\n",
       "      <td>Good</td>\n",
       "    </tr>\n",
       "    <tr>\n",
       "      <th>2020-06-28</th>\n",
       "      <td>Visakhapatnam</td>\n",
       "      <td>24.38</td>\n",
       "      <td>74.09</td>\n",
       "      <td>3.42</td>\n",
       "      <td>26.06</td>\n",
       "      <td>16.53</td>\n",
       "      <td>11.99</td>\n",
       "      <td>0.52</td>\n",
       "      <td>12.72</td>\n",
       "      <td>2.21</td>\n",
       "      <td>70.0</td>\n",
       "      <td>Satisfactory</td>\n",
       "    </tr>\n",
       "    <tr>\n",
       "      <th>2020-06-29</th>\n",
       "      <td>Visakhapatnam</td>\n",
       "      <td>22.91</td>\n",
       "      <td>65.73</td>\n",
       "      <td>3.45</td>\n",
       "      <td>29.53</td>\n",
       "      <td>18.33</td>\n",
       "      <td>10.71</td>\n",
       "      <td>0.48</td>\n",
       "      <td>8.42</td>\n",
       "      <td>0.01</td>\n",
       "      <td>68.0</td>\n",
       "      <td>Satisfactory</td>\n",
       "    </tr>\n",
       "    <tr>\n",
       "      <th>2020-06-30</th>\n",
       "      <td>Visakhapatnam</td>\n",
       "      <td>16.64</td>\n",
       "      <td>49.97</td>\n",
       "      <td>4.05</td>\n",
       "      <td>29.26</td>\n",
       "      <td>18.80</td>\n",
       "      <td>10.03</td>\n",
       "      <td>0.52</td>\n",
       "      <td>9.84</td>\n",
       "      <td>0.00</td>\n",
       "      <td>54.0</td>\n",
       "      <td>Satisfactory</td>\n",
       "    </tr>\n",
       "    <tr>\n",
       "      <th>2020-07-01</th>\n",
       "      <td>Visakhapatnam</td>\n",
       "      <td>15.00</td>\n",
       "      <td>66.00</td>\n",
       "      <td>0.40</td>\n",
       "      <td>26.85</td>\n",
       "      <td>14.05</td>\n",
       "      <td>5.20</td>\n",
       "      <td>0.59</td>\n",
       "      <td>2.10</td>\n",
       "      <td>NaN</td>\n",
       "      <td>50.0</td>\n",
       "      <td>Good</td>\n",
       "    </tr>\n",
       "  </tbody>\n",
       "</table>\n",
       "<p>29531 rows × 12 columns</p>\n",
       "</div>"
      ],
      "text/plain": [
       "                     City  PM2.5   PM10     NO    NO2    NOx    NH3     CO  \\\n",
       "Date                                                                         \n",
       "2015-01-01      Ahmedabad    NaN    NaN   0.92  18.22  17.15    NaN   0.92   \n",
       "2015-01-02      Ahmedabad    NaN    NaN   0.97  15.69  16.46    NaN   0.97   \n",
       "2015-01-03      Ahmedabad    NaN    NaN  17.40  19.30  29.70    NaN  17.40   \n",
       "2015-01-04      Ahmedabad    NaN    NaN   1.70  18.48  17.97    NaN   1.70   \n",
       "2015-01-05      Ahmedabad    NaN    NaN  22.10  21.42  37.76    NaN  22.10   \n",
       "...                   ...    ...    ...    ...    ...    ...    ...    ...   \n",
       "2020-06-27  Visakhapatnam  15.02  50.94   7.68  25.06  19.54  12.47   0.47   \n",
       "2020-06-28  Visakhapatnam  24.38  74.09   3.42  26.06  16.53  11.99   0.52   \n",
       "2020-06-29  Visakhapatnam  22.91  65.73   3.45  29.53  18.33  10.71   0.48   \n",
       "2020-06-30  Visakhapatnam  16.64  49.97   4.05  29.26  18.80  10.03   0.52   \n",
       "2020-07-01  Visakhapatnam  15.00  66.00   0.40  26.85  14.05   5.20   0.59   \n",
       "\n",
       "              SO2  Toluene   AQI    AQI_Bucket  \n",
       "Date                                            \n",
       "2015-01-01  27.64     0.02   NaN           NaN  \n",
       "2015-01-02  24.55     5.50   NaN           NaN  \n",
       "2015-01-03  29.07    16.40   NaN           NaN  \n",
       "2015-01-04  18.59    10.14   NaN           NaN  \n",
       "2015-01-05  39.33    18.89   NaN           NaN  \n",
       "...           ...      ...   ...           ...  \n",
       "2020-06-27   8.55    12.07  41.0          Good  \n",
       "2020-06-28  12.72     2.21  70.0  Satisfactory  \n",
       "2020-06-29   8.42     0.01  68.0  Satisfactory  \n",
       "2020-06-30   9.84     0.00  54.0  Satisfactory  \n",
       "2020-07-01   2.10      NaN  50.0          Good  \n",
       "\n",
       "[29531 rows x 12 columns]"
      ]
     },
     "execution_count": 13,
     "metadata": {},
     "output_type": "execute_result"
    }
   ],
   "source": [
    "df"
   ]
  },
  {
   "cell_type": "code",
   "execution_count": 14,
   "id": "23e4fbc9",
   "metadata": {},
   "outputs": [
    {
     "data": {
      "text/html": [
       "<div>\n",
       "<style scoped>\n",
       "    .dataframe tbody tr th:only-of-type {\n",
       "        vertical-align: middle;\n",
       "    }\n",
       "\n",
       "    .dataframe tbody tr th {\n",
       "        vertical-align: top;\n",
       "    }\n",
       "\n",
       "    .dataframe thead th {\n",
       "        text-align: right;\n",
       "    }\n",
       "</style>\n",
       "<table border=\"1\" class=\"dataframe\">\n",
       "  <thead>\n",
       "    <tr style=\"text-align: right;\">\n",
       "      <th></th>\n",
       "      <th>PM2.5</th>\n",
       "      <th>PM10</th>\n",
       "      <th>NO</th>\n",
       "      <th>NO2</th>\n",
       "      <th>NOx</th>\n",
       "      <th>NH3</th>\n",
       "      <th>CO</th>\n",
       "      <th>SO2</th>\n",
       "      <th>Toluene</th>\n",
       "      <th>AQI</th>\n",
       "    </tr>\n",
       "  </thead>\n",
       "  <tbody>\n",
       "    <tr>\n",
       "      <th>PM2.5</th>\n",
       "      <td>1.000000</td>\n",
       "      <td>0.846498</td>\n",
       "      <td>NaN</td>\n",
       "      <td>NaN</td>\n",
       "      <td>NaN</td>\n",
       "      <td>NaN</td>\n",
       "      <td>NaN</td>\n",
       "      <td>NaN</td>\n",
       "      <td>NaN</td>\n",
       "      <td>NaN</td>\n",
       "    </tr>\n",
       "    <tr>\n",
       "      <th>PM10</th>\n",
       "      <td>0.846498</td>\n",
       "      <td>1.000000</td>\n",
       "      <td>NaN</td>\n",
       "      <td>NaN</td>\n",
       "      <td>NaN</td>\n",
       "      <td>NaN</td>\n",
       "      <td>NaN</td>\n",
       "      <td>NaN</td>\n",
       "      <td>NaN</td>\n",
       "      <td>0.803313</td>\n",
       "    </tr>\n",
       "    <tr>\n",
       "      <th>NO</th>\n",
       "      <td>NaN</td>\n",
       "      <td>NaN</td>\n",
       "      <td>1.00000</td>\n",
       "      <td>NaN</td>\n",
       "      <td>0.79489</td>\n",
       "      <td>NaN</td>\n",
       "      <td>NaN</td>\n",
       "      <td>NaN</td>\n",
       "      <td>NaN</td>\n",
       "      <td>NaN</td>\n",
       "    </tr>\n",
       "    <tr>\n",
       "      <th>NO2</th>\n",
       "      <td>NaN</td>\n",
       "      <td>NaN</td>\n",
       "      <td>NaN</td>\n",
       "      <td>1.0</td>\n",
       "      <td>NaN</td>\n",
       "      <td>NaN</td>\n",
       "      <td>NaN</td>\n",
       "      <td>NaN</td>\n",
       "      <td>NaN</td>\n",
       "      <td>NaN</td>\n",
       "    </tr>\n",
       "    <tr>\n",
       "      <th>NOx</th>\n",
       "      <td>NaN</td>\n",
       "      <td>NaN</td>\n",
       "      <td>0.79489</td>\n",
       "      <td>NaN</td>\n",
       "      <td>1.00000</td>\n",
       "      <td>NaN</td>\n",
       "      <td>NaN</td>\n",
       "      <td>NaN</td>\n",
       "      <td>NaN</td>\n",
       "      <td>NaN</td>\n",
       "    </tr>\n",
       "    <tr>\n",
       "      <th>NH3</th>\n",
       "      <td>NaN</td>\n",
       "      <td>NaN</td>\n",
       "      <td>NaN</td>\n",
       "      <td>NaN</td>\n",
       "      <td>NaN</td>\n",
       "      <td>1.0</td>\n",
       "      <td>NaN</td>\n",
       "      <td>NaN</td>\n",
       "      <td>NaN</td>\n",
       "      <td>NaN</td>\n",
       "    </tr>\n",
       "    <tr>\n",
       "      <th>CO</th>\n",
       "      <td>NaN</td>\n",
       "      <td>NaN</td>\n",
       "      <td>NaN</td>\n",
       "      <td>NaN</td>\n",
       "      <td>NaN</td>\n",
       "      <td>NaN</td>\n",
       "      <td>1.0</td>\n",
       "      <td>NaN</td>\n",
       "      <td>NaN</td>\n",
       "      <td>NaN</td>\n",
       "    </tr>\n",
       "    <tr>\n",
       "      <th>SO2</th>\n",
       "      <td>NaN</td>\n",
       "      <td>NaN</td>\n",
       "      <td>NaN</td>\n",
       "      <td>NaN</td>\n",
       "      <td>NaN</td>\n",
       "      <td>NaN</td>\n",
       "      <td>NaN</td>\n",
       "      <td>1.0</td>\n",
       "      <td>NaN</td>\n",
       "      <td>NaN</td>\n",
       "    </tr>\n",
       "    <tr>\n",
       "      <th>Toluene</th>\n",
       "      <td>NaN</td>\n",
       "      <td>NaN</td>\n",
       "      <td>NaN</td>\n",
       "      <td>NaN</td>\n",
       "      <td>NaN</td>\n",
       "      <td>NaN</td>\n",
       "      <td>NaN</td>\n",
       "      <td>NaN</td>\n",
       "      <td>1.0</td>\n",
       "      <td>NaN</td>\n",
       "    </tr>\n",
       "    <tr>\n",
       "      <th>AQI</th>\n",
       "      <td>NaN</td>\n",
       "      <td>0.803313</td>\n",
       "      <td>NaN</td>\n",
       "      <td>NaN</td>\n",
       "      <td>NaN</td>\n",
       "      <td>NaN</td>\n",
       "      <td>NaN</td>\n",
       "      <td>NaN</td>\n",
       "      <td>NaN</td>\n",
       "      <td>1.000000</td>\n",
       "    </tr>\n",
       "  </tbody>\n",
       "</table>\n",
       "</div>"
      ],
      "text/plain": [
       "            PM2.5      PM10       NO  NO2      NOx  NH3   CO  SO2  Toluene  \\\n",
       "PM2.5    1.000000  0.846498      NaN  NaN      NaN  NaN  NaN  NaN      NaN   \n",
       "PM10     0.846498  1.000000      NaN  NaN      NaN  NaN  NaN  NaN      NaN   \n",
       "NO            NaN       NaN  1.00000  NaN  0.79489  NaN  NaN  NaN      NaN   \n",
       "NO2           NaN       NaN      NaN  1.0      NaN  NaN  NaN  NaN      NaN   \n",
       "NOx           NaN       NaN  0.79489  NaN  1.00000  NaN  NaN  NaN      NaN   \n",
       "NH3           NaN       NaN      NaN  NaN      NaN  1.0  NaN  NaN      NaN   \n",
       "CO            NaN       NaN      NaN  NaN      NaN  NaN  1.0  NaN      NaN   \n",
       "SO2           NaN       NaN      NaN  NaN      NaN  NaN  NaN  1.0      NaN   \n",
       "Toluene       NaN       NaN      NaN  NaN      NaN  NaN  NaN  NaN      1.0   \n",
       "AQI           NaN  0.803313      NaN  NaN      NaN  NaN  NaN  NaN      NaN   \n",
       "\n",
       "              AQI  \n",
       "PM2.5         NaN  \n",
       "PM10     0.803313  \n",
       "NO            NaN  \n",
       "NO2           NaN  \n",
       "NOx           NaN  \n",
       "NH3           NaN  \n",
       "CO            NaN  \n",
       "SO2           NaN  \n",
       "Toluene       NaN  \n",
       "AQI      1.000000  "
      ]
     },
     "execution_count": 14,
     "metadata": {},
     "output_type": "execute_result"
    }
   ],
   "source": [
    "## Creating a mask to identify columns with correlation coefficients >= 0.70\n",
    "mask=df.corr()>=0.70\n",
    "df.corr()[mask]"
   ]
  },
  {
   "cell_type": "code",
   "execution_count": 15,
   "id": "32167d39",
   "metadata": {},
   "outputs": [
    {
     "name": "stdout",
     "output_type": "stream",
     "text": [
      "<class 'pandas.core.frame.DataFrame'>\n",
      "DatetimeIndex: 29531 entries, 2015-01-01 to 2020-07-01\n",
      "Data columns (total 12 columns):\n",
      " #   Column      Non-Null Count  Dtype  \n",
      "---  ------      --------------  -----  \n",
      " 0   City        29531 non-null  object \n",
      " 1   PM2.5       24933 non-null  float64\n",
      " 2   PM10        18391 non-null  float64\n",
      " 3   NO          25949 non-null  float64\n",
      " 4   NO2         25946 non-null  float64\n",
      " 5   NOx         25346 non-null  float64\n",
      " 6   NH3         19203 non-null  float64\n",
      " 7   CO          27472 non-null  float64\n",
      " 8   SO2         25677 non-null  float64\n",
      " 9   Toluene     21490 non-null  float64\n",
      " 10  AQI         24850 non-null  float64\n",
      " 11  AQI_Bucket  24850 non-null  object \n",
      "dtypes: float64(10), object(2)\n",
      "memory usage: 2.9+ MB\n"
     ]
    }
   ],
   "source": [
    "df.info()"
   ]
  },
  {
   "cell_type": "code",
   "execution_count": null,
   "id": "482e22cb",
   "metadata": {},
   "outputs": [],
   "source": []
  },
  {
   "cell_type": "code",
   "execution_count": 16,
   "id": "ceac6116",
   "metadata": {},
   "outputs": [],
   "source": [
    "# In 'PM2.5' and 'PM10' there is multicolinearity so will remove 'PM2.5' since PM10 has more corr with 'AQI'\n",
    "# In 'NO' and 'NOx' there is multicolinearity so will remove NO since 'NOx' has more corr with 'AQI'\n",
    "df=df.iloc[:,[0,2,4,5,6,7,8,9,10,11]]"
   ]
  },
  {
   "cell_type": "code",
   "execution_count": 17,
   "id": "53e967ec",
   "metadata": {},
   "outputs": [
    {
     "name": "stdout",
     "output_type": "stream",
     "text": [
      "<class 'pandas.core.frame.DataFrame'>\n",
      "DatetimeIndex: 29531 entries, 2015-01-01 to 2020-07-01\n",
      "Data columns (total 10 columns):\n",
      " #   Column      Non-Null Count  Dtype  \n",
      "---  ------      --------------  -----  \n",
      " 0   City        29531 non-null  object \n",
      " 1   PM10        18391 non-null  float64\n",
      " 2   NO2         25946 non-null  float64\n",
      " 3   NOx         25346 non-null  float64\n",
      " 4   NH3         19203 non-null  float64\n",
      " 5   CO          27472 non-null  float64\n",
      " 6   SO2         25677 non-null  float64\n",
      " 7   Toluene     21490 non-null  float64\n",
      " 8   AQI         24850 non-null  float64\n",
      " 9   AQI_Bucket  24850 non-null  object \n",
      "dtypes: float64(8), object(2)\n",
      "memory usage: 2.5+ MB\n"
     ]
    }
   ],
   "source": [
    "df.info()"
   ]
  },
  {
   "cell_type": "code",
   "execution_count": 18,
   "id": "e4b76ed9",
   "metadata": {},
   "outputs": [
    {
     "data": {
      "text/plain": [
       "City              0\n",
       "PM10          11140\n",
       "NO2            3585\n",
       "NOx            4185\n",
       "NH3           10328\n",
       "CO             2059\n",
       "SO2            3854\n",
       "Toluene        8041\n",
       "AQI            4681\n",
       "AQI_Bucket     4681\n",
       "dtype: int64"
      ]
     },
     "execution_count": 18,
     "metadata": {},
     "output_type": "execute_result"
    }
   ],
   "source": [
    "# checking for missing values again\n",
    "df.isna().sum()"
   ]
  },
  {
   "cell_type": "code",
   "execution_count": 19,
   "id": "9e0c4800",
   "metadata": {},
   "outputs": [
    {
     "data": {
      "text/plain": [
       "Moderate        8829\n",
       "Satisfactory    8224\n",
       "Poor            2781\n",
       "Very Poor       2337\n",
       "Good            1341\n",
       "Severe          1338\n",
       "Name: AQI_Bucket, dtype: int64"
      ]
     },
     "execution_count": 19,
     "metadata": {},
     "output_type": "execute_result"
    }
   ],
   "source": [
    "# Counting the occurrences of each category in the 'AQI_Bucket' column\n",
    "df['AQI_Bucket'].value_counts()"
   ]
  },
  {
   "cell_type": "code",
   "execution_count": 20,
   "id": "174030d0",
   "metadata": {},
   "outputs": [],
   "source": [
    "df=df.drop(['NH3','Toluene'],axis=1)"
   ]
  },
  {
   "cell_type": "code",
   "execution_count": 21,
   "id": "2f41ccc4",
   "metadata": {},
   "outputs": [
    {
     "name": "stdout",
     "output_type": "stream",
     "text": [
      "<class 'pandas.core.frame.DataFrame'>\n",
      "DatetimeIndex: 29531 entries, 2015-01-01 to 2020-07-01\n",
      "Data columns (total 8 columns):\n",
      " #   Column      Non-Null Count  Dtype  \n",
      "---  ------      --------------  -----  \n",
      " 0   City        29531 non-null  object \n",
      " 1   PM10        18391 non-null  float64\n",
      " 2   NO2         25946 non-null  float64\n",
      " 3   NOx         25346 non-null  float64\n",
      " 4   CO          27472 non-null  float64\n",
      " 5   SO2         25677 non-null  float64\n",
      " 6   AQI         24850 non-null  float64\n",
      " 7   AQI_Bucket  24850 non-null  object \n",
      "dtypes: float64(6), object(2)\n",
      "memory usage: 2.0+ MB\n"
     ]
    }
   ],
   "source": [
    "df.info()"
   ]
  },
  {
   "cell_type": "code",
   "execution_count": 22,
   "id": "4f8c3a86",
   "metadata": {},
   "outputs": [
    {
     "data": {
      "text/plain": [
       "City              0\n",
       "PM10          11140\n",
       "NO2            3585\n",
       "NOx            4185\n",
       "CO             2059\n",
       "SO2            3854\n",
       "AQI            4681\n",
       "AQI_Bucket     4681\n",
       "dtype: int64"
      ]
     },
     "execution_count": 22,
     "metadata": {},
     "output_type": "execute_result"
    }
   ],
   "source": [
    "df.isna().sum()"
   ]
  },
  {
   "cell_type": "code",
   "execution_count": null,
   "id": "8e980b9e",
   "metadata": {},
   "outputs": [],
   "source": [
    "# Handling missing values by filling them with the mean values of their respective columns"
   ]
  },
  {
   "cell_type": "code",
   "execution_count": 23,
   "id": "02f6de31",
   "metadata": {},
   "outputs": [],
   "source": [
    "df['PM10'].fillna(value=df['PM10'].mean(),inplace=True)\n",
    "df['NO2'].fillna(value=df['NO2'].mean(),inplace=True)\n",
    "df['NOx'].fillna(value=df['NOx'].mean(),inplace=True)\n",
    "df['CO'].fillna(value=df['CO'].mean(),inplace=True)\n",
    "df['SO2'].fillna(value=df['SO2'].mean(),inplace=True)"
   ]
  },
  {
   "cell_type": "code",
   "execution_count": 24,
   "id": "f0acaae7",
   "metadata": {},
   "outputs": [
    {
     "data": {
      "text/plain": [
       "City             0\n",
       "PM10             0\n",
       "NO2              0\n",
       "NOx              0\n",
       "CO               0\n",
       "SO2              0\n",
       "AQI           4681\n",
       "AQI_Bucket    4681\n",
       "dtype: int64"
      ]
     },
     "execution_count": 24,
     "metadata": {},
     "output_type": "execute_result"
    }
   ],
   "source": [
    "# Checking for missing values in the DataFrame after filling missing values\n",
    "df.isna().sum()"
   ]
  },
  {
   "cell_type": "code",
   "execution_count": 25,
   "id": "afb36485",
   "metadata": {},
   "outputs": [],
   "source": [
    "# Removing rows with any remaining missing values\n",
    "df.dropna(inplace=True)"
   ]
  },
  {
   "cell_type": "code",
   "execution_count": 26,
   "id": "bf833331",
   "metadata": {},
   "outputs": [
    {
     "data": {
      "text/plain": [
       "City          0\n",
       "PM10          0\n",
       "NO2           0\n",
       "NOx           0\n",
       "CO            0\n",
       "SO2           0\n",
       "AQI           0\n",
       "AQI_Bucket    0\n",
       "dtype: int64"
      ]
     },
     "execution_count": 26,
     "metadata": {},
     "output_type": "execute_result"
    }
   ],
   "source": [
    "df.isna().sum()"
   ]
  },
  {
   "cell_type": "code",
   "execution_count": 27,
   "id": "c3939504",
   "metadata": {},
   "outputs": [],
   "source": [
    "# Extracting feature columns (X) and the target column (y)\n",
    "X=df.iloc[:,1:6].values\n",
    "y=df.iloc[:,-1].values\n"
   ]
  },
  {
   "cell_type": "code",
   "execution_count": 28,
   "id": "7364a687",
   "metadata": {},
   "outputs": [],
   "source": [
    "# Scaling the feature columns\n",
    "from sklearn.preprocessing import StandardScaler"
   ]
  },
  {
   "cell_type": "code",
   "execution_count": 29,
   "id": "c40017f4",
   "metadata": {},
   "outputs": [],
   "source": [
    "sc=StandardScaler()"
   ]
  },
  {
   "cell_type": "code",
   "execution_count": 30,
   "id": "5295cb38",
   "metadata": {},
   "outputs": [],
   "source": [
    "X_sc=sc.fit_transform(X)"
   ]
  },
  {
   "cell_type": "code",
   "execution_count": 31,
   "id": "6aa9a3e2",
   "metadata": {},
   "outputs": [
    {
     "data": {
      "text/plain": [
       "array([[-3.09273670e-03, -1.07161505e-02,  4.83876096e-02,\n",
       "         6.54140048e-01,  2.04200840e+00],\n",
       "       [-3.09273670e-03, -1.19440435e-02,  2.97521283e-01,\n",
       "         1.64109841e+00,  1.98217648e+00],\n",
       "       [-3.09273670e-03,  1.50956431e-01,  6.87808139e-01,\n",
       "         3.14435580e+00,  3.08006320e+00],\n",
       "       ...,\n",
       "       [-6.95635824e-01,  2.28462587e-02, -4.72559026e-01,\n",
       "        -2.65785015e-01, -3.45459558e-01],\n",
       "       [-9.03938926e-01,  1.17952216e-02, -4.56649675e-01,\n",
       "        -2.60080053e-01, -2.62972830e-01],\n",
       "       [-6.92067180e-01, -8.68455177e-02, -6.17435673e-01,\n",
       "        -2.50096371e-01, -7.12583584e-01]])"
      ]
     },
     "execution_count": 31,
     "metadata": {},
     "output_type": "execute_result"
    }
   ],
   "source": [
    "X_sc"
   ]
  },
  {
   "cell_type": "code",
   "execution_count": 32,
   "id": "ad6e9127",
   "metadata": {},
   "outputs": [],
   "source": [
    "from sklearn.model_selection import train_test_split"
   ]
  },
  {
   "cell_type": "code",
   "execution_count": 33,
   "id": "1316177a",
   "metadata": {},
   "outputs": [
    {
     "data": {
      "text/plain": [
       "((19880, 5), (4970, 5), (19880,), (4970,))"
      ]
     },
     "execution_count": 33,
     "metadata": {},
     "output_type": "execute_result"
    }
   ],
   "source": [
    "# Splitting the dataset into training and testing sets (80% train, 20% test)\n",
    "X_train,X_test,y_train,y_test=train_test_split(X,y,test_size=0.2,random_state=0)\n",
    "X_train.shape,X_test.shape,y_train.shape,y_test.shape"
   ]
  },
  {
   "cell_type": "code",
   "execution_count": 34,
   "id": "a0d6b15e",
   "metadata": {},
   "outputs": [],
   "source": [
    "# importing Support Vector Model\n",
    "from sklearn.svm import SVC"
   ]
  },
  {
   "cell_type": "code",
   "execution_count": 35,
   "id": "d9bab224",
   "metadata": {},
   "outputs": [
    {
     "data": {
      "text/plain": [
       "SVC()"
      ]
     },
     "execution_count": 35,
     "metadata": {},
     "output_type": "execute_result"
    }
   ],
   "source": [
    "# Creating an SVM model with the radial basis function (RBF) kernel\n",
    "model=SVC(kernel='rbf')\n",
    "# Training the SVM model on the training data\n",
    "model.fit(X_train,y_train)"
   ]
  },
  {
   "cell_type": "code",
   "execution_count": 36,
   "id": "ac8f6036",
   "metadata": {},
   "outputs": [
    {
     "name": "stdout",
     "output_type": "stream",
     "text": [
      "['Moderate' 'Moderate' 'Satisfactory' ... 'Moderate' 'Moderate' 'Moderate']\n"
     ]
    }
   ],
   "source": [
    "# Making predictions on the test data\n",
    "y_pred=model.predict(X_test)\n",
    "print(y_pred)"
   ]
  },
  {
   "cell_type": "code",
   "execution_count": 37,
   "id": "7375b247",
   "metadata": {},
   "outputs": [
    {
     "data": {
      "text/plain": [
       "0.6142857142857143"
      ]
     },
     "execution_count": 37,
     "metadata": {},
     "output_type": "execute_result"
    }
   ],
   "source": [
    "# Calculating the accuracy score\n",
    "model.score(X_test,y_test)"
   ]
  },
  {
   "cell_type": "code",
   "execution_count": 38,
   "id": "9bd79583",
   "metadata": {},
   "outputs": [],
   "source": [
    "# Romoving the outliers "
   ]
  },
  {
   "cell_type": "code",
   "execution_count": 39,
   "id": "4a102ed5",
   "metadata": {},
   "outputs": [
    {
     "name": "stdout",
     "output_type": "stream",
     "text": [
      "<class 'pandas.core.frame.DataFrame'>\n",
      "DatetimeIndex: 24850 entries, 2015-01-29 to 2020-07-01\n",
      "Data columns (total 8 columns):\n",
      " #   Column      Non-Null Count  Dtype  \n",
      "---  ------      --------------  -----  \n",
      " 0   City        24850 non-null  object \n",
      " 1   PM10        24850 non-null  float64\n",
      " 2   NO2         24850 non-null  float64\n",
      " 3   NOx         24850 non-null  float64\n",
      " 4   CO          24850 non-null  float64\n",
      " 5   SO2         24850 non-null  float64\n",
      " 6   AQI         24850 non-null  float64\n",
      " 7   AQI_Bucket  24850 non-null  object \n",
      "dtypes: float64(6), object(2)\n",
      "memory usage: 1.7+ MB\n"
     ]
    }
   ],
   "source": [
    "df.info()"
   ]
  },
  {
   "cell_type": "code",
   "execution_count": 40,
   "id": "69e4b842",
   "metadata": {},
   "outputs": [
    {
     "data": {
      "image/png": "[encoded data removed]",
      "text/plain": [
       "<Figure size 432x288 with 1 Axes>"
      ]
     },
     "metadata": {
      "needs_background": "light"
     },
     "output_type": "display_data"
    }
   ],
   "source": [
    "# checking for outliers in column 1\n",
    "plt.boxplot(df.iloc[:,1],vert=False);"
   ]
  },
  {
   "cell_type": "code",
   "execution_count": 41,
   "id": "d184afe8",
   "metadata": {},
   "outputs": [],
   "source": [
    "q3=np.percentile(df.iloc[:,1],75)\n",
    "q1=np.percentile(df.iloc[:,1],25)\n",
    "iqr=q3-q1\n",
    "u_b=q3+1.5*iqr"
   ]
  },
  {
   "cell_type": "code",
   "execution_count": 42,
   "id": "bab1d317",
   "metadata": {},
   "outputs": [
    {
     "data": {
      "text/plain": [
       "199.72375"
      ]
     },
     "execution_count": 42,
     "metadata": {},
     "output_type": "execute_result"
    }
   ],
   "source": [
    "u_b"
   ]
  },
  {
   "cell_type": "code",
   "execution_count": 43,
   "id": "c03f3a00",
   "metadata": {},
   "outputs": [
    {
     "data": {
      "text/html": [
       "<div>\n",
       "<style scoped>\n",
       "    .dataframe tbody tr th:only-of-type {\n",
       "        vertical-align: middle;\n",
       "    }\n",
       "\n",
       "    .dataframe tbody tr th {\n",
       "        vertical-align: top;\n",
       "    }\n",
       "\n",
       "    .dataframe thead th {\n",
       "        text-align: right;\n",
       "    }\n",
       "</style>\n",
       "<table border=\"1\" class=\"dataframe\">\n",
       "  <thead>\n",
       "    <tr style=\"text-align: right;\">\n",
       "      <th></th>\n",
       "      <th>PM10</th>\n",
       "      <th>NO2</th>\n",
       "      <th>NOx</th>\n",
       "      <th>CO</th>\n",
       "      <th>SO2</th>\n",
       "      <th>AQI</th>\n",
       "    </tr>\n",
       "  </thead>\n",
       "  <tbody>\n",
       "    <tr>\n",
       "      <th>count</th>\n",
       "      <td>24850.000000</td>\n",
       "      <td>24850.000000</td>\n",
       "      <td>24850.000000</td>\n",
       "      <td>24850.000000</td>\n",
       "      <td>24850.000000</td>\n",
       "      <td>24850.000000</td>\n",
       "    </tr>\n",
       "    <tr>\n",
       "      <th>mean</th>\n",
       "      <td>118.361096</td>\n",
       "      <td>28.971818</td>\n",
       "      <td>32.290515</td>\n",
       "      <td>2.343536</td>\n",
       "      <td>14.367049</td>\n",
       "      <td>166.463581</td>\n",
       "    </tr>\n",
       "    <tr>\n",
       "      <th>std</th>\n",
       "      <td>75.660501</td>\n",
       "      <td>24.432587</td>\n",
       "      <td>29.542968</td>\n",
       "      <td>7.011582</td>\n",
       "      <td>17.215237</td>\n",
       "      <td>140.696585</td>\n",
       "    </tr>\n",
       "    <tr>\n",
       "      <th>min</th>\n",
       "      <td>0.030000</td>\n",
       "      <td>0.010000</td>\n",
       "      <td>0.000000</td>\n",
       "      <td>0.000000</td>\n",
       "      <td>0.010000</td>\n",
       "      <td>13.000000</td>\n",
       "    </tr>\n",
       "    <tr>\n",
       "      <th>25%</th>\n",
       "      <td>71.780000</td>\n",
       "      <td>12.090000</td>\n",
       "      <td>14.030000</td>\n",
       "      <td>0.590000</td>\n",
       "      <td>5.790000</td>\n",
       "      <td>81.000000</td>\n",
       "    </tr>\n",
       "    <tr>\n",
       "      <th>50%</th>\n",
       "      <td>118.127103</td>\n",
       "      <td>22.535000</td>\n",
       "      <td>25.720000</td>\n",
       "      <td>0.950000</td>\n",
       "      <td>9.430000</td>\n",
       "      <td>118.000000</td>\n",
       "    </tr>\n",
       "    <tr>\n",
       "      <th>75%</th>\n",
       "      <td>122.957500</td>\n",
       "      <td>37.910000</td>\n",
       "      <td>38.170000</td>\n",
       "      <td>1.530000</td>\n",
       "      <td>14.890000</td>\n",
       "      <td>208.000000</td>\n",
       "    </tr>\n",
       "    <tr>\n",
       "      <th>max</th>\n",
       "      <td>917.080000</td>\n",
       "      <td>362.210000</td>\n",
       "      <td>378.240000</td>\n",
       "      <td>175.810000</td>\n",
       "      <td>186.080000</td>\n",
       "      <td>2049.000000</td>\n",
       "    </tr>\n",
       "  </tbody>\n",
       "</table>\n",
       "</div>"
      ],
      "text/plain": [
       "               PM10           NO2           NOx            CO           SO2  \\\n",
       "count  24850.000000  24850.000000  24850.000000  24850.000000  24850.000000   \n",
       "mean     118.361096     28.971818     32.290515      2.343536     14.367049   \n",
       "std       75.660501     24.432587     29.542968      7.011582     17.215237   \n",
       "min        0.030000      0.010000      0.000000      0.000000      0.010000   \n",
       "25%       71.780000     12.090000     14.030000      0.590000      5.790000   \n",
       "50%      118.127103     22.535000     25.720000      0.950000      9.430000   \n",
       "75%      122.957500     37.910000     38.170000      1.530000     14.890000   \n",
       "max      917.080000    362.210000    378.240000    175.810000    186.080000   \n",
       "\n",
       "                AQI  \n",
       "count  24850.000000  \n",
       "mean     166.463581  \n",
       "std      140.696585  \n",
       "min       13.000000  \n",
       "25%       81.000000  \n",
       "50%      118.000000  \n",
       "75%      208.000000  \n",
       "max     2049.000000  "
      ]
     },
     "execution_count": 43,
     "metadata": {},
     "output_type": "execute_result"
    }
   ],
   "source": [
    "df.describe()"
   ]
  },
  {
   "cell_type": "code",
   "execution_count": 44,
   "id": "36b0bcb7",
   "metadata": {},
   "outputs": [
    {
     "name": "stdout",
     "output_type": "stream",
     "text": [
      "2.289372157324728\n"
     ]
    }
   ],
   "source": [
    "# Checking skewness and 90th percentile for column 1\n",
    "print(df.iloc[:,1].skew())"
   ]
  },
  {
   "cell_type": "code",
   "execution_count": 45,
   "id": "c1a4d78a",
   "metadata": {},
   "outputs": [
    {
     "name": "stdout",
     "output_type": "stream",
     "text": [
      "198.5050000000001\n"
     ]
    }
   ],
   "source": [
    "print(df.iloc[:,1].quantile(0.90))"
   ]
  },
  {
   "cell_type": "code",
   "execution_count": 46,
   "id": "e9a4f280",
   "metadata": {},
   "outputs": [],
   "source": [
    "df.iloc[:,1]=np.where(df.iloc[:,1]>u_b,u_b,df.iloc[:,1])"
   ]
  },
  {
   "cell_type": "code",
   "execution_count": 47,
   "id": "1dc76f8e",
   "metadata": {},
   "outputs": [
    {
     "name": "stdout",
     "output_type": "stream",
     "text": [
      "0.17725911518006135\n"
     ]
    }
   ],
   "source": [
    "print(df.iloc[:,1].skew())"
   ]
  },
  {
   "cell_type": "code",
   "execution_count": 48,
   "id": "fcef3dda",
   "metadata": {},
   "outputs": [
    {
     "data": {
      "image/png": "[encoded data removed]",
      "text/plain": [
       "<Figure size 432x288 with 1 Axes>"
      ]
     },
     "metadata": {
      "needs_background": "light"
     },
     "output_type": "display_data"
    }
   ],
   "source": [
    "# checking for outliers in column 2\n",
    "plt.boxplot(df.iloc[:,2],vert=False);"
   ]
  },
  {
   "cell_type": "code",
   "execution_count": 49,
   "id": "50f36f7f",
   "metadata": {},
   "outputs": [],
   "source": [
    "q3=np.percentile(df.iloc[:,2],75)\n",
    "q1=np.percentile(df.iloc[:,2],25)\n",
    "iqr=q3-q1\n",
    "u_b=q3+1.5*iqr"
   ]
  },
  {
   "cell_type": "code",
   "execution_count": 50,
   "id": "2e5d135e",
   "metadata": {},
   "outputs": [],
   "source": [
    "df.iloc[:,2]=np.where(df.iloc[:,2]>u_b,u_b,df.iloc[:,2])"
   ]
  },
  {
   "cell_type": "code",
   "execution_count": 51,
   "id": "e2cb19e4",
   "metadata": {},
   "outputs": [
    {
     "data": {
      "image/png": "[encoded data removed]",
      "text/plain": [
       "<Figure size 432x288 with 1 Axes>"
      ]
     },
     "metadata": {
      "needs_background": "light"
     },
     "output_type": "display_data"
    }
   ],
   "source": [
    "plt.boxplot(df.iloc[:,2],vert=False);"
   ]
  },
  {
   "cell_type": "code",
   "execution_count": 52,
   "id": "63f8883f",
   "metadata": {},
   "outputs": [
    {
     "data": {
      "image/png": "[encoded data removed]",
      "text/plain": [
       "<Figure size 432x288 with 1 Axes>"
      ]
     },
     "metadata": {
      "needs_background": "light"
     },
     "output_type": "display_data"
    }
   ],
   "source": [
    "# checking for outliers in column 3\n",
    "plt.boxplot(df.iloc[:,3],vert=False);"
   ]
  },
  {
   "cell_type": "code",
   "execution_count": 53,
   "id": "db19ca57",
   "metadata": {},
   "outputs": [],
   "source": [
    "q3=np.percentile(df.iloc[:,3],75)\n",
    "q1=np.percentile(df.iloc[:,3],25)\n",
    "iqr=q3-q1\n",
    "u_b=q3+1.5*iqr"
   ]
  },
  {
   "cell_type": "code",
   "execution_count": 54,
   "id": "a1ac0f61",
   "metadata": {},
   "outputs": [],
   "source": [
    "df.iloc[:,3]=np.where(df.iloc[:,3]>u_b,u_b,df.iloc[:,3])"
   ]
  },
  {
   "cell_type": "code",
   "execution_count": 55,
   "id": "5bf68d0c",
   "metadata": {},
   "outputs": [
    {
     "data": {
      "image/png": "[encoded data removed]",
      "text/plain": [
       "<Figure size 432x288 with 1 Axes>"
      ]
     },
     "metadata": {
      "needs_background": "light"
     },
     "output_type": "display_data"
    }
   ],
   "source": [
    "plt.boxplot(df.iloc[:,3],vert=False);"
   ]
  },
  {
   "cell_type": "code",
   "execution_count": 56,
   "id": "eaad65f3",
   "metadata": {},
   "outputs": [
    {
     "data": {
      "image/png": "[encoded data removed]",
      "text/plain": [
       "<Figure size 432x288 with 1 Axes>"
      ]
     },
     "metadata": {
      "needs_background": "light"
     },
     "output_type": "display_data"
    }
   ],
   "source": [
    "# checking for outliers in column 4\n",
    "plt.boxplot(df.iloc[:,4],vert=False);"
   ]
  },
  {
   "cell_type": "code",
   "execution_count": 57,
   "id": "4e3f26fd",
   "metadata": {},
   "outputs": [],
   "source": [
    "q3=np.percentile(df.iloc[:,4],75)\n",
    "q1=np.percentile(df.iloc[:,4],25)\n",
    "iqr=q3-q1\n",
    "u_b=q3+1.5*iqr"
   ]
  },
  {
   "cell_type": "code",
   "execution_count": 58,
   "id": "522038e3",
   "metadata": {},
   "outputs": [],
   "source": [
    "df.iloc[:,4]=np.where(df.iloc[:,4]>u_b,u_b,df.iloc[:,4])"
   ]
  },
  {
   "cell_type": "code",
   "execution_count": 59,
   "id": "3c190c51",
   "metadata": {},
   "outputs": [
    {
     "data": {
      "image/png": "[encoded data removed]",
      "text/plain": [
       "<Figure size 432x288 with 1 Axes>"
      ]
     },
     "metadata": {
      "needs_background": "light"
     },
     "output_type": "display_data"
    }
   ],
   "source": [
    "plt.boxplot(df.iloc[:,4],vert=False);"
   ]
  },
  {
   "cell_type": "code",
   "execution_count": 60,
   "id": "1ecd75f8",
   "metadata": {},
   "outputs": [
    {
     "data": {
      "image/png": "[encoded data removed]",
      "text/plain": [
       "<Figure size 432x288 with 1 Axes>"
      ]
     },
     "metadata": {
      "needs_background": "light"
     },
     "output_type": "display_data"
    }
   ],
   "source": [
    "# checking for outliers in column 5\n",
    "plt.boxplot(df.iloc[:,5],vert=False);"
   ]
  },
  {
   "cell_type": "code",
   "execution_count": 61,
   "id": "40616b99",
   "metadata": {},
   "outputs": [],
   "source": [
    "q3=np.percentile(df.iloc[:,5],75)\n",
    "q1=np.percentile(df.iloc[:,5],25)\n",
    "iqr=q3-q1\n",
    "u_b=q3+1.5*iqr"
   ]
  },
  {
   "cell_type": "code",
   "execution_count": 62,
   "id": "35158c3d",
   "metadata": {},
   "outputs": [],
   "source": [
    "df.iloc[:,5]=np.where(df.iloc[:,5]>u_b,u_b,df.iloc[:,5])"
   ]
  },
  {
   "cell_type": "code",
   "execution_count": 63,
   "id": "1e68c0cb",
   "metadata": {},
   "outputs": [
    {
     "data": {
      "image/png": "[encoded data removed]",
      "text/plain": [
       "<Figure size 432x288 with 1 Axes>"
      ]
     },
     "metadata": {
      "needs_background": "light"
     },
     "output_type": "display_data"
    }
   ],
   "source": [
    "plt.boxplot(df.iloc[:,5],vert=False);"
   ]
  },
  {
   "cell_type": "code",
   "execution_count": 67,
   "id": "5965cc03",
   "metadata": {},
   "outputs": [
    {
     "data": {
      "text/html": [
       "<div>\n",
       "<style scoped>\n",
       "    .dataframe tbody tr th:only-of-type {\n",
       "        vertical-align: middle;\n",
       "    }\n",
       "\n",
       "    .dataframe tbody tr th {\n",
       "        vertical-align: top;\n",
       "    }\n",
       "\n",
       "    .dataframe thead th {\n",
       "        text-align: right;\n",
       "    }\n",
       "</style>\n",
       "<table border=\"1\" class=\"dataframe\">\n",
       "  <thead>\n",
       "    <tr style=\"text-align: right;\">\n",
       "      <th></th>\n",
       "      <th>City</th>\n",
       "      <th>PM10</th>\n",
       "      <th>NO2</th>\n",
       "      <th>NOx</th>\n",
       "      <th>CO</th>\n",
       "      <th>SO2</th>\n",
       "      <th>AQI</th>\n",
       "      <th>AQI_Bucket</th>\n",
       "    </tr>\n",
       "    <tr>\n",
       "      <th>Date</th>\n",
       "      <th></th>\n",
       "      <th></th>\n",
       "      <th></th>\n",
       "      <th></th>\n",
       "      <th></th>\n",
       "      <th></th>\n",
       "      <th></th>\n",
       "      <th></th>\n",
       "    </tr>\n",
       "  </thead>\n",
       "  <tbody>\n",
       "    <tr>\n",
       "      <th>2015-01-29</th>\n",
       "      <td>Ahmedabad</td>\n",
       "      <td>118.127103</td>\n",
       "      <td>28.71</td>\n",
       "      <td>33.72</td>\n",
       "      <td>2.94</td>\n",
       "      <td>28.54</td>\n",
       "      <td>209.0</td>\n",
       "      <td>Poor</td>\n",
       "    </tr>\n",
       "    <tr>\n",
       "      <th>2015-01-30</th>\n",
       "      <td>Ahmedabad</td>\n",
       "      <td>118.127103</td>\n",
       "      <td>28.68</td>\n",
       "      <td>41.08</td>\n",
       "      <td>2.94</td>\n",
       "      <td>28.54</td>\n",
       "      <td>328.0</td>\n",
       "      <td>Very Poor</td>\n",
       "    </tr>\n",
       "    <tr>\n",
       "      <th>2015-01-31</th>\n",
       "      <td>Ahmedabad</td>\n",
       "      <td>118.127103</td>\n",
       "      <td>32.66</td>\n",
       "      <td>52.61</td>\n",
       "      <td>2.94</td>\n",
       "      <td>28.54</td>\n",
       "      <td>514.0</td>\n",
       "      <td>Severe</td>\n",
       "    </tr>\n",
       "    <tr>\n",
       "      <th>2015-02-01</th>\n",
       "      <td>Ahmedabad</td>\n",
       "      <td>118.127103</td>\n",
       "      <td>42.08</td>\n",
       "      <td>74.38</td>\n",
       "      <td>2.94</td>\n",
       "      <td>28.54</td>\n",
       "      <td>782.0</td>\n",
       "      <td>Severe</td>\n",
       "    </tr>\n",
       "    <tr>\n",
       "      <th>2015-02-02</th>\n",
       "      <td>Ahmedabad</td>\n",
       "      <td>118.127103</td>\n",
       "      <td>35.31</td>\n",
       "      <td>72.80</td>\n",
       "      <td>2.94</td>\n",
       "      <td>28.54</td>\n",
       "      <td>914.0</td>\n",
       "      <td>Severe</td>\n",
       "    </tr>\n",
       "    <tr>\n",
       "      <th>...</th>\n",
       "      <td>...</td>\n",
       "      <td>...</td>\n",
       "      <td>...</td>\n",
       "      <td>...</td>\n",
       "      <td>...</td>\n",
       "      <td>...</td>\n",
       "      <td>...</td>\n",
       "      <td>...</td>\n",
       "    </tr>\n",
       "    <tr>\n",
       "      <th>2020-06-27</th>\n",
       "      <td>Visakhapatnam</td>\n",
       "      <td>50.940000</td>\n",
       "      <td>25.06</td>\n",
       "      <td>19.54</td>\n",
       "      <td>0.47</td>\n",
       "      <td>8.55</td>\n",
       "      <td>41.0</td>\n",
       "      <td>Good</td>\n",
       "    </tr>\n",
       "    <tr>\n",
       "      <th>2020-06-28</th>\n",
       "      <td>Visakhapatnam</td>\n",
       "      <td>74.090000</td>\n",
       "      <td>26.06</td>\n",
       "      <td>16.53</td>\n",
       "      <td>0.52</td>\n",
       "      <td>12.72</td>\n",
       "      <td>70.0</td>\n",
       "      <td>Satisfactory</td>\n",
       "    </tr>\n",
       "    <tr>\n",
       "      <th>2020-06-29</th>\n",
       "      <td>Visakhapatnam</td>\n",
       "      <td>65.730000</td>\n",
       "      <td>29.53</td>\n",
       "      <td>18.33</td>\n",
       "      <td>0.48</td>\n",
       "      <td>8.42</td>\n",
       "      <td>68.0</td>\n",
       "      <td>Satisfactory</td>\n",
       "    </tr>\n",
       "    <tr>\n",
       "      <th>2020-06-30</th>\n",
       "      <td>Visakhapatnam</td>\n",
       "      <td>49.970000</td>\n",
       "      <td>29.26</td>\n",
       "      <td>18.80</td>\n",
       "      <td>0.52</td>\n",
       "      <td>9.84</td>\n",
       "      <td>54.0</td>\n",
       "      <td>Satisfactory</td>\n",
       "    </tr>\n",
       "    <tr>\n",
       "      <th>2020-07-01</th>\n",
       "      <td>Visakhapatnam</td>\n",
       "      <td>66.000000</td>\n",
       "      <td>26.85</td>\n",
       "      <td>14.05</td>\n",
       "      <td>0.59</td>\n",
       "      <td>2.10</td>\n",
       "      <td>50.0</td>\n",
       "      <td>Good</td>\n",
       "    </tr>\n",
       "  </tbody>\n",
       "</table>\n",
       "<p>24850 rows × 8 columns</p>\n",
       "</div>"
      ],
      "text/plain": [
       "                     City        PM10    NO2    NOx    CO    SO2    AQI  \\\n",
       "Date                                                                      \n",
       "2015-01-29      Ahmedabad  118.127103  28.71  33.72  2.94  28.54  209.0   \n",
       "2015-01-30      Ahmedabad  118.127103  28.68  41.08  2.94  28.54  328.0   \n",
       "2015-01-31      Ahmedabad  118.127103  32.66  52.61  2.94  28.54  514.0   \n",
       "2015-02-01      Ahmedabad  118.127103  42.08  74.38  2.94  28.54  782.0   \n",
       "2015-02-02      Ahmedabad  118.127103  35.31  72.80  2.94  28.54  914.0   \n",
       "...                   ...         ...    ...    ...   ...    ...    ...   \n",
       "2020-06-27  Visakhapatnam   50.940000  25.06  19.54  0.47   8.55   41.0   \n",
       "2020-06-28  Visakhapatnam   74.090000  26.06  16.53  0.52  12.72   70.0   \n",
       "2020-06-29  Visakhapatnam   65.730000  29.53  18.33  0.48   8.42   68.0   \n",
       "2020-06-30  Visakhapatnam   49.970000  29.26  18.80  0.52   9.84   54.0   \n",
       "2020-07-01  Visakhapatnam   66.000000  26.85  14.05  0.59   2.10   50.0   \n",
       "\n",
       "              AQI_Bucket  \n",
       "Date                      \n",
       "2015-01-29          Poor  \n",
       "2015-01-30     Very Poor  \n",
       "2015-01-31        Severe  \n",
       "2015-02-01        Severe  \n",
       "2015-02-02        Severe  \n",
       "...                  ...  \n",
       "2020-06-27          Good  \n",
       "2020-06-28  Satisfactory  \n",
       "2020-06-29  Satisfactory  \n",
       "2020-06-30  Satisfactory  \n",
       "2020-07-01          Good  \n",
       "\n",
       "[24850 rows x 8 columns]"
      ]
     },
     "execution_count": 67,
     "metadata": {},
     "output_type": "execute_result"
    }
   ],
   "source": [
    "df"
   ]
  },
  {
   "cell_type": "code",
   "execution_count": 64,
   "id": "521495ba",
   "metadata": {},
   "outputs": [],
   "source": [
    "# Extracting feature columns (X) and the target column (y) after outlier removal\n",
    "X=df.iloc[:,1:6].values\n",
    "y=df.iloc[:,-1].values"
   ]
  },
  {
   "cell_type": "code",
   "execution_count": 65,
   "id": "cfb9d813",
   "metadata": {},
   "outputs": [
    {
     "data": {
      "text/plain": [
       "array([[ 0.1905674 ,  0.05302815,  0.21010528,  2.20178063,  2.1479357 ],\n",
       "       [ 0.1905674 ,  0.05150117,  0.56890615,  2.20178063,  2.1479357 ],\n",
       "       [ 0.1905674 ,  0.25407992,  1.13099502,  2.20178063,  2.1479357 ],\n",
       "       ...,\n",
       "       [-0.88410766,  0.09476547, -0.54015905, -0.84341368, -0.41861593],\n",
       "       [-1.20734842,  0.0810227 , -0.51724649, -0.79389832, -0.23747759],\n",
       "       [-0.87856991, -0.04164433, -0.74880956, -0.70724645, -1.22480908]])"
      ]
     },
     "execution_count": 65,
     "metadata": {},
     "output_type": "execute_result"
    }
   ],
   "source": [
    "# Scaling the feature columns again after outlier removal\n",
    "\n",
    "from sklearn.preprocessing import StandardScaler\n",
    "\n",
    "sc=StandardScaler()\n",
    "\n",
    "X_sc=sc.fit_transform(X)\n",
    "\n",
    "X_sc"
   ]
  },
  {
   "cell_type": "code",
   "execution_count": 66,
   "id": "56542322",
   "metadata": {},
   "outputs": [],
   "source": [
    "# Applying the model to data once again after outlier removal\n",
    "from sklearn.model_selection import train_test_split"
   ]
  },
  {
   "cell_type": "code",
   "execution_count": 68,
   "id": "9ec87beb",
   "metadata": {},
   "outputs": [],
   "source": [
    "X_train,X_test,y_train,y_test=train_test_split(X_sc,y,test_size=0.2,random_state=123)"
   ]
  },
  {
   "cell_type": "code",
   "execution_count": 69,
   "id": "0b27d961",
   "metadata": {},
   "outputs": [
    {
     "data": {
      "text/plain": [
       "((19880, 5), (4970, 5), (19880,), (4970,))"
      ]
     },
     "execution_count": 69,
     "metadata": {},
     "output_type": "execute_result"
    }
   ],
   "source": [
    "X_train.shape,X_test.shape,y_train.shape,y_test.shape"
   ]
  },
  {
   "cell_type": "code",
   "execution_count": 70,
   "id": "9c9f2b3e",
   "metadata": {},
   "outputs": [],
   "source": [
    "from sklearn.svm import SVC"
   ]
  },
  {
   "cell_type": "code",
   "execution_count": 71,
   "id": "4a12e88f",
   "metadata": {},
   "outputs": [
    {
     "data": {
      "text/plain": [
       "SVC()"
      ]
     },
     "execution_count": 71,
     "metadata": {},
     "output_type": "execute_result"
    }
   ],
   "source": [
    "model=SVC(kernel='rbf')\n",
    "model.fit(X_train,y_train)"
   ]
  },
  {
   "cell_type": "code",
   "execution_count": 72,
   "id": "497aa847",
   "metadata": {},
   "outputs": [
    {
     "name": "stdout",
     "output_type": "stream",
     "text": [
      "['Moderate' 'Moderate' 'Moderate' ... 'Moderate' 'Very Poor' 'Moderate']\n"
     ]
    }
   ],
   "source": [
    "y_pred=model.predict(X_test)\n",
    "\n",
    "# Displaying the predicted labels after outlier removal\n",
    "print(y_pred)"
   ]
  },
  {
   "cell_type": "code",
   "execution_count": 73,
   "id": "7ffa1427",
   "metadata": {},
   "outputs": [
    {
     "data": {
      "text/plain": [
       "0.6394366197183099"
      ]
     },
     "execution_count": 73,
     "metadata": {},
     "output_type": "execute_result"
    }
   ],
   "source": [
    "# checking model score\n",
    "model.score(X_test,y_test)"
   ]
  },
  {
   "cell_type": "code",
   "execution_count": 74,
   "id": "2e0097e2",
   "metadata": {},
   "outputs": [],
   "source": [
    "# Plotting the confusion matrix to visualize the performance of the SVM model after outlier removal\n",
    "from sklearn.metrics import plot_confusion_matrix,classification_report "
   ]
  },
  {
   "cell_type": "code",
   "execution_count": 75,
   "id": "b6b07456",
   "metadata": {},
   "outputs": [
    {
     "name": "stderr",
     "output_type": "stream",
     "text": [
      "C:\\Users\\SAURABH\\AppData\\Local\\Programs\\Python\\Python310\\lib\\site-packages\\sklearn\\utils\\deprecation.py:87: FutureWarning: Function plot_confusion_matrix is deprecated; Function `plot_confusion_matrix` is deprecated in 1.0 and will be removed in 1.2. Use one of the class methods: ConfusionMatrixDisplay.from_predictions or ConfusionMatrixDisplay.from_estimator.\n",
      "  warnings.warn(msg, category=FutureWarning)\n"
     ]
    },
    {
     "data": {
      "image/png": "[encoded data removed]",
      "text/plain": [
       "<Figure size 432x288 with 2 Axes>"
      ]
     },
     "metadata": {
      "needs_background": "light"
     },
     "output_type": "display_data"
    }
   ],
   "source": [
    "plot_confusion_matrix(model,X_test,y_test)\n",
    "plt.show()"
   ]
  },
  {
   "cell_type": "code",
   "execution_count": null,
   "id": "c1081a13",
   "metadata": {},
   "outputs": [],
   "source": []
  }
 ],
 "metadata": {
  "kernelspec": {
   "display_name": "Python 3 (ipykernel)",
   "language": "python",
   "name": "python3"
  },
  "language_info": {
   "codemirror_mode": {
    "name": "ipython",
    "version": 3
   },
   "file_extension": ".py",
   "mimetype": "text/x-python",
   "name": "python",
   "nbconvert_exporter": "python",
   "pygments_lexer": "ipython3",
   "version": "3.10.2"
  }
 },
 "nbformat": 4,
 "nbformat_minor": 5
}
