{
 "cells": [
  {
   "cell_type": "markdown",
   "id": "7d7d8b88",
   "metadata": {},
   "source": [
    "# Question Intent Classifier For Multi-Category Questions - by Saurabh Khandebharad"
   ]
  },
  {
   "cell_type": "markdown",
   "id": "a5df50a5",
   "metadata": {},
   "source": [
    "### Dataset : https://www.kaggle.com/datasets/ananthu017/question-classification/code"
   ]
  },
  {
   "cell_type": "code",
   "execution_count": 17,
   "id": "e86fe0b5-fba7-48b1-a987-56c3f7cb1920",
   "metadata": {
    "tags": []
   },
   "outputs": [],
   "source": [
    "# importing necessary libraries\n",
    "import pandas as pd\n",
    "from sklearn.feature_extraction.text import TfidfVectorizer\n",
    "from sklearn.model_selection import train_test_split\n",
    "from sklearn.feature_extraction.text import CountVectorizer\n",
    "from sklearn.feature_extraction.text import TfidfTransformer\n",
    "from sklearn.naive_bayes import MultinomialNB\n",
    "from sklearn.linear_model import LogisticRegression\n",
    "from sklearn.svm import SVC\n",
    "from sklearn.ensemble import RandomForestClassifier\n",
    "from sklearn.tree import DecisionTreeClassifier\n",
    "from sklearn.neighbors import KNeighborsClassifier\n",
    "from sklearn.metrics import accuracy_score, confusion_matrix"
   ]
  },
  {
   "cell_type": "code",
   "execution_count": 2,
   "id": "fda9fc0e-884e-4389-aea3-a3ebd944497d",
   "metadata": {
    "tags": []
   },
   "outputs": [],
   "source": [
    "# Loading the training data from a CSV file\n",
    "df = pd.read_csv(\"Question_Classification_Dataset.csv\", encoding=\"latin1\")"
   ]
  },
  {
   "cell_type": "code",
   "execution_count": 3,
   "id": "9919e6b9-2098-4e79-a2d4-47ec9b476d08",
   "metadata": {
    "tags": []
   },
   "outputs": [
    {
     "data": {
      "text/html": [
       "<div>\n",
       "<style scoped>\n",
       "    .dataframe tbody tr th:only-of-type {\n",
       "        vertical-align: middle;\n",
       "    }\n",
       "\n",
       "    .dataframe tbody tr th {\n",
       "        vertical-align: top;\n",
       "    }\n",
       "\n",
       "    .dataframe thead th {\n",
       "        text-align: right;\n",
       "    }\n",
       "</style>\n",
       "<table border=\"1\" class=\"dataframe\">\n",
       "  <thead>\n",
       "    <tr style=\"text-align: right;\">\n",
       "      <th></th>\n",
       "      <th>Unnamed: 0</th>\n",
       "      <th>Questions</th>\n",
       "      <th>Category0</th>\n",
       "      <th>Category1</th>\n",
       "      <th>Category2</th>\n",
       "    </tr>\n",
       "  </thead>\n",
       "  <tbody>\n",
       "    <tr>\n",
       "      <th>0</th>\n",
       "      <td>0</td>\n",
       "      <td>How did serfdom develop in and then leave Russ...</td>\n",
       "      <td>DESCRIPTION</td>\n",
       "      <td>DESC</td>\n",
       "      <td>manner</td>\n",
       "    </tr>\n",
       "    <tr>\n",
       "      <th>1</th>\n",
       "      <td>1</td>\n",
       "      <td>What films featured the character Popeye Doyle ?</td>\n",
       "      <td>ENTITY</td>\n",
       "      <td>ENTY</td>\n",
       "      <td>cremat</td>\n",
       "    </tr>\n",
       "    <tr>\n",
       "      <th>2</th>\n",
       "      <td>2</td>\n",
       "      <td>How can I find a list of celebrities ' real na...</td>\n",
       "      <td>DESCRIPTION</td>\n",
       "      <td>DESC</td>\n",
       "      <td>manner</td>\n",
       "    </tr>\n",
       "    <tr>\n",
       "      <th>3</th>\n",
       "      <td>3</td>\n",
       "      <td>What fowl grabs the spotlight after the Chines...</td>\n",
       "      <td>ENTITY</td>\n",
       "      <td>ENTY</td>\n",
       "      <td>animal</td>\n",
       "    </tr>\n",
       "    <tr>\n",
       "      <th>4</th>\n",
       "      <td>4</td>\n",
       "      <td>What is the full form of .com ?</td>\n",
       "      <td>ABBREVIATION</td>\n",
       "      <td>ABBR</td>\n",
       "      <td>exp</td>\n",
       "    </tr>\n",
       "  </tbody>\n",
       "</table>\n",
       "</div>"
      ],
      "text/plain": [
       "   Unnamed: 0                                          Questions   \n",
       "0           0  How did serfdom develop in and then leave Russ...  \\\n",
       "1           1   What films featured the character Popeye Doyle ?   \n",
       "2           2  How can I find a list of celebrities ' real na...   \n",
       "3           3  What fowl grabs the spotlight after the Chines...   \n",
       "4           4                    What is the full form of .com ?   \n",
       "\n",
       "      Category0 Category1 Category2  \n",
       "0   DESCRIPTION      DESC    manner  \n",
       "1        ENTITY      ENTY    cremat  \n",
       "2   DESCRIPTION      DESC    manner  \n",
       "3        ENTITY      ENTY    animal  \n",
       "4  ABBREVIATION      ABBR       exp  "
      ]
     },
     "execution_count": 3,
     "metadata": {},
     "output_type": "execute_result"
    }
   ],
   "source": [
    "df.head()"
   ]
  },
  {
   "cell_type": "markdown",
   "id": "11c6fbe8-8632-451d-828a-f306a27e833a",
   "metadata": {
    "tags": []
   },
   "source": [
    "#### We need only two classes to fit models. So creating two columns out of four:"
   ]
  },
  {
   "cell_type": "code",
   "execution_count": 4,
   "id": "74831fba-2d74-49a5-b383-f4b7df417bcb",
   "metadata": {
    "tags": []
   },
   "outputs": [
    {
     "data": {
      "text/html": [
       "<div>\n",
       "<style scoped>\n",
       "    .dataframe tbody tr th:only-of-type {\n",
       "        vertical-align: middle;\n",
       "    }\n",
       "\n",
       "    .dataframe tbody tr th {\n",
       "        vertical-align: top;\n",
       "    }\n",
       "\n",
       "    .dataframe thead th {\n",
       "        text-align: right;\n",
       "    }\n",
       "</style>\n",
       "<table border=\"1\" class=\"dataframe\">\n",
       "  <thead>\n",
       "    <tr style=\"text-align: right;\">\n",
       "      <th></th>\n",
       "      <th>Unnamed: 0</th>\n",
       "      <th>Questions</th>\n",
       "      <th>Category0</th>\n",
       "      <th>Category1</th>\n",
       "      <th>Category2</th>\n",
       "      <th>Class</th>\n",
       "    </tr>\n",
       "  </thead>\n",
       "  <tbody>\n",
       "    <tr>\n",
       "      <th>0</th>\n",
       "      <td>0</td>\n",
       "      <td>How did serfdom develop in and then leave Russ...</td>\n",
       "      <td>DESCRIPTION</td>\n",
       "      <td>DESC</td>\n",
       "      <td>manner</td>\n",
       "      <td>DESCRIPTION:manner</td>\n",
       "    </tr>\n",
       "    <tr>\n",
       "      <th>1</th>\n",
       "      <td>1</td>\n",
       "      <td>What films featured the character Popeye Doyle ?</td>\n",
       "      <td>ENTITY</td>\n",
       "      <td>ENTY</td>\n",
       "      <td>cremat</td>\n",
       "      <td>ENTITY:cremat</td>\n",
       "    </tr>\n",
       "    <tr>\n",
       "      <th>2</th>\n",
       "      <td>2</td>\n",
       "      <td>How can I find a list of celebrities ' real na...</td>\n",
       "      <td>DESCRIPTION</td>\n",
       "      <td>DESC</td>\n",
       "      <td>manner</td>\n",
       "      <td>DESCRIPTION:manner</td>\n",
       "    </tr>\n",
       "    <tr>\n",
       "      <th>3</th>\n",
       "      <td>3</td>\n",
       "      <td>What fowl grabs the spotlight after the Chines...</td>\n",
       "      <td>ENTITY</td>\n",
       "      <td>ENTY</td>\n",
       "      <td>animal</td>\n",
       "      <td>ENTITY:animal</td>\n",
       "    </tr>\n",
       "    <tr>\n",
       "      <th>4</th>\n",
       "      <td>4</td>\n",
       "      <td>What is the full form of .com ?</td>\n",
       "      <td>ABBREVIATION</td>\n",
       "      <td>ABBR</td>\n",
       "      <td>exp</td>\n",
       "      <td>ABBREVIATION:exp</td>\n",
       "    </tr>\n",
       "  </tbody>\n",
       "</table>\n",
       "</div>"
      ],
      "text/plain": [
       "   Unnamed: 0                                          Questions   \n",
       "0           0  How did serfdom develop in and then leave Russ...  \\\n",
       "1           1   What films featured the character Popeye Doyle ?   \n",
       "2           2  How can I find a list of celebrities ' real na...   \n",
       "3           3  What fowl grabs the spotlight after the Chines...   \n",
       "4           4                    What is the full form of .com ?   \n",
       "\n",
       "      Category0 Category1 Category2               Class  \n",
       "0   DESCRIPTION      DESC    manner  DESCRIPTION:manner  \n",
       "1        ENTITY      ENTY    cremat       ENTITY:cremat  \n",
       "2   DESCRIPTION      DESC    manner  DESCRIPTION:manner  \n",
       "3        ENTITY      ENTY    animal       ENTITY:animal  \n",
       "4  ABBREVIATION      ABBR       exp    ABBREVIATION:exp  "
      ]
     },
     "execution_count": 4,
     "metadata": {},
     "output_type": "execute_result"
    }
   ],
   "source": [
    "df['Class'] = df['Category0'].astype(str) + ':' + df['Category2']\n",
    "df.head()"
   ]
  },
  {
   "cell_type": "code",
   "execution_count": 5,
   "id": "b4070cfd-2d1c-42f7-b943-52542bcf33b5",
   "metadata": {
    "tags": []
   },
   "outputs": [
    {
     "data": {
      "text/html": [
       "<div>\n",
       "<style scoped>\n",
       "    .dataframe tbody tr th:only-of-type {\n",
       "        vertical-align: middle;\n",
       "    }\n",
       "\n",
       "    .dataframe tbody tr th {\n",
       "        vertical-align: top;\n",
       "    }\n",
       "\n",
       "    .dataframe thead th {\n",
       "        text-align: right;\n",
       "    }\n",
       "</style>\n",
       "<table border=\"1\" class=\"dataframe\">\n",
       "  <thead>\n",
       "    <tr style=\"text-align: right;\">\n",
       "      <th></th>\n",
       "      <th>Unnamed: 0</th>\n",
       "      <th>Questions</th>\n",
       "      <th>Class</th>\n",
       "    </tr>\n",
       "  </thead>\n",
       "  <tbody>\n",
       "    <tr>\n",
       "      <th>0</th>\n",
       "      <td>0</td>\n",
       "      <td>How did serfdom develop in and then leave Russ...</td>\n",
       "      <td>DESCRIPTION:manner</td>\n",
       "    </tr>\n",
       "    <tr>\n",
       "      <th>1</th>\n",
       "      <td>1</td>\n",
       "      <td>What films featured the character Popeye Doyle ?</td>\n",
       "      <td>ENTITY:cremat</td>\n",
       "    </tr>\n",
       "    <tr>\n",
       "      <th>2</th>\n",
       "      <td>2</td>\n",
       "      <td>How can I find a list of celebrities ' real na...</td>\n",
       "      <td>DESCRIPTION:manner</td>\n",
       "    </tr>\n",
       "    <tr>\n",
       "      <th>3</th>\n",
       "      <td>3</td>\n",
       "      <td>What fowl grabs the spotlight after the Chines...</td>\n",
       "      <td>ENTITY:animal</td>\n",
       "    </tr>\n",
       "    <tr>\n",
       "      <th>4</th>\n",
       "      <td>4</td>\n",
       "      <td>What is the full form of .com ?</td>\n",
       "      <td>ABBREVIATION:exp</td>\n",
       "    </tr>\n",
       "  </tbody>\n",
       "</table>\n",
       "</div>"
      ],
      "text/plain": [
       "   Unnamed: 0                                          Questions   \n",
       "0           0  How did serfdom develop in and then leave Russ...  \\\n",
       "1           1   What films featured the character Popeye Doyle ?   \n",
       "2           2  How can I find a list of celebrities ' real na...   \n",
       "3           3  What fowl grabs the spotlight after the Chines...   \n",
       "4           4                    What is the full form of .com ?   \n",
       "\n",
       "                Class  \n",
       "0  DESCRIPTION:manner  \n",
       "1       ENTITY:cremat  \n",
       "2  DESCRIPTION:manner  \n",
       "3       ENTITY:animal  \n",
       "4    ABBREVIATION:exp  "
      ]
     },
     "execution_count": 5,
     "metadata": {},
     "output_type": "execute_result"
    }
   ],
   "source": [
    "df  = df.drop(columns = ['Category0', 'Category1', 'Category2'])\n",
    "df.head()"
   ]
  },
  {
   "cell_type": "code",
   "execution_count": 6,
   "id": "ace9a129-81ee-475a-9de8-e2b3535d106b",
   "metadata": {
    "tags": []
   },
   "outputs": [
    {
     "data": {
      "text/html": [
       "<div>\n",
       "<style scoped>\n",
       "    .dataframe tbody tr th:only-of-type {\n",
       "        vertical-align: middle;\n",
       "    }\n",
       "\n",
       "    .dataframe tbody tr th {\n",
       "        vertical-align: top;\n",
       "    }\n",
       "\n",
       "    .dataframe thead th {\n",
       "        text-align: right;\n",
       "    }\n",
       "</style>\n",
       "<table border=\"1\" class=\"dataframe\">\n",
       "  <thead>\n",
       "    <tr style=\"text-align: right;\">\n",
       "      <th></th>\n",
       "      <th>Questions</th>\n",
       "      <th>Class</th>\n",
       "    </tr>\n",
       "  </thead>\n",
       "  <tbody>\n",
       "    <tr>\n",
       "      <th>0</th>\n",
       "      <td>How did serfdom develop in and then leave Russ...</td>\n",
       "      <td>DESCRIPTION:manner</td>\n",
       "    </tr>\n",
       "    <tr>\n",
       "      <th>1</th>\n",
       "      <td>What films featured the character Popeye Doyle ?</td>\n",
       "      <td>ENTITY:cremat</td>\n",
       "    </tr>\n",
       "    <tr>\n",
       "      <th>2</th>\n",
       "      <td>How can I find a list of celebrities ' real na...</td>\n",
       "      <td>DESCRIPTION:manner</td>\n",
       "    </tr>\n",
       "    <tr>\n",
       "      <th>3</th>\n",
       "      <td>What fowl grabs the spotlight after the Chines...</td>\n",
       "      <td>ENTITY:animal</td>\n",
       "    </tr>\n",
       "    <tr>\n",
       "      <th>4</th>\n",
       "      <td>What is the full form of .com ?</td>\n",
       "      <td>ABBREVIATION:exp</td>\n",
       "    </tr>\n",
       "  </tbody>\n",
       "</table>\n",
       "</div>"
      ],
      "text/plain": [
       "                                           Questions               Class\n",
       "0  How did serfdom develop in and then leave Russ...  DESCRIPTION:manner\n",
       "1   What films featured the character Popeye Doyle ?       ENTITY:cremat\n",
       "2  How can I find a list of celebrities ' real na...  DESCRIPTION:manner\n",
       "3  What fowl grabs the spotlight after the Chines...       ENTITY:animal\n",
       "4                    What is the full form of .com ?    ABBREVIATION:exp"
      ]
     },
     "execution_count": 6,
     "metadata": {},
     "output_type": "execute_result"
    }
   ],
   "source": [
    "df = df.drop(df.columns[0],axis = 1)\n",
    "df.head()"
   ]
  },
  {
   "cell_type": "code",
   "execution_count": 7,
   "id": "dde5da5e-b314-4c89-b0c8-9784a0cae617",
   "metadata": {
    "tags": []
   },
   "outputs": [],
   "source": [
    "# Preparing the data for training\n",
    "col = ['Class', 'Questions']\n",
    "y = df[col]\n",
    "y = y[pd.notnull(y['Questions'])]\n",
    "y.columns = ['Class', 'Questions']\n",
    "y['category_id'] = y['Class'].factorize()[0]\n",
    "category_id_df = y[['Class', 'category_id']].drop_duplicates().sort_values('category_id')\n",
    "category_to_id = dict(category_id_df.values)\n",
    "id_to_category = dict(category_id_df[['category_id', 'Class']].values)"
   ]
  },
  {
   "cell_type": "markdown",
   "id": "d39b9f6f",
   "metadata": {},
   "source": [
    "#### Training and comparing different algorithms"
   ]
  },
  {
   "cell_type": "code",
   "execution_count": 8,
   "id": "04fe80ba-7c18-484b-bed9-d7119bc1d7ed",
   "metadata": {
    "tags": []
   },
   "outputs": [],
   "source": [
    "tfidf = TfidfVectorizer(sublinear_tf=True, min_df=5, norm='l2', encoding='latin-1', ngram_range=(1, 2), stop_words='english')\n",
    "features = tfidf.fit_transform(y.Questions).toarray()\n",
    "labels = y.category_id\n",
    "\n",
    "X_train, X_test, y_train, y_test = train_test_split(y['Questions'], y['Class'], random_state=0)\n",
    "count_vect = CountVectorizer()\n",
    "X_train_counts = count_vect.fit_transform(X_train)\n",
    "tfidf_transformer = TfidfTransformer()\n",
    "X_train_tfidf = tfidf_transformer.fit_transform(X_train_counts)"
   ]
  },
  {
   "cell_type": "code",
   "execution_count": 9,
   "id": "650f2ee9-25b9-4fc6-928c-01dbd3e9aef7",
   "metadata": {},
   "outputs": [
    {
     "name": "stdout",
     "output_type": "stream",
     "text": [
      "Naive Bayes Classifier:\n",
      "Accuracy: 0.37417461482024944\n"
     ]
    }
   ],
   "source": [
    "# Naive Bayes classifier\n",
    "clf_nb = MultinomialNB().fit(X_train_tfidf, y_train)\n",
    "X_test_counts_nb = count_vect.transform(X_test)\n",
    "X_test_tfidf_nb = tfidf_transformer.transform(X_test_counts_nb)\n",
    "y_pred_nb = clf_nb.predict(X_test_tfidf_nb)\n",
    "print(\"Naive Bayes Classifier:\")\n",
    "accuracy = accuracy_score(y_test, y_pred_nb)\n",
    "print(\"Accuracy:\", accuracy)"
   ]
  },
  {
   "cell_type": "code",
   "execution_count": 10,
   "id": "c13c366a-edbc-4437-8950-1ab8091993c4",
   "metadata": {
    "tags": []
   },
   "outputs": [
    {
     "name": "stdout",
     "output_type": "stream",
     "text": [
      "K-Nearest Neighbors (KNN) Classifier:\n",
      "Accuracy: 0.5788701393983859\n"
     ]
    }
   ],
   "source": [
    "# K-Nearest Neighbors (KNN) classifier\n",
    "clf_knn = KNeighborsClassifier().fit(X_train_tfidf, y_train)\n",
    "X_test_counts_knn = count_vect.transform(X_test)\n",
    "X_test_tfidf_knn = tfidf_transformer.transform(X_test_counts_knn)\n",
    "y_pred_knn = clf_knn.predict(X_test_tfidf_knn)\n",
    "print(\"K-Nearest Neighbors (KNN) Classifier:\")\n",
    "accuracy = accuracy_score(y_test, y_pred_knn)\n",
    "print(\"Accuracy:\", accuracy)"
   ]
  },
  {
   "cell_type": "code",
   "execution_count": 11,
   "id": "12bf156d-e93a-42f0-b763-ecc62d7694ff",
   "metadata": {},
   "outputs": [
    {
     "name": "stdout",
     "output_type": "stream",
     "text": [
      "Decision Tree Classifier:\n",
      "Accuracy: 0.6170212765957447\n"
     ]
    }
   ],
   "source": [
    "# Decision Tree classifier\n",
    "clf_dt = DecisionTreeClassifier().fit(X_train_tfidf, y_train)\n",
    "X_test_counts_dt = count_vect.transform(X_test)\n",
    "X_test_tfidf_dt = tfidf_transformer.transform(X_test_counts_dt)\n",
    "y_pred_dt = clf_dt.predict(X_test_tfidf_dt)\n",
    "print(\"Decision Tree Classifier:\")\n",
    "accuracy = accuracy_score(y_test, y_pred_dt)\n",
    "print(\"Accuracy:\", accuracy)"
   ]
  },
  {
   "cell_type": "code",
   "execution_count": 12,
   "id": "3854404f-bc22-455d-821a-1a3271d52f98",
   "metadata": {},
   "outputs": [
    {
     "name": "stdout",
     "output_type": "stream",
     "text": [
      "Logistic Regression Classifier:\n",
      "Accuracy: 0.6375641966250917\n"
     ]
    }
   ],
   "source": [
    "# Logistic Regression classifier\n",
    "clf_lr = LogisticRegression().fit(X_train_tfidf, y_train)\n",
    "X_test_counts_lr = count_vect.transform(X_test)\n",
    "X_test_tfidf_lr = tfidf_transformer.transform(X_test_counts_lr)\n",
    "y_pred_lr = clf_lr.predict(X_test_tfidf_lr)\n",
    "print(\"Logistic Regression Classifier:\")\n",
    "accuracy = accuracy_score(y_test, y_pred_lr)\n",
    "print(\"Accuracy:\", accuracy)"
   ]
  },
  {
   "cell_type": "code",
   "execution_count": 13,
   "id": "44efe932-16f7-4ae6-82cc-7ea11cd546cf",
   "metadata": {},
   "outputs": [
    {
     "name": "stdout",
     "output_type": "stream",
     "text": [
      "Support Vector Machine (SVM) Classifier:\n",
      "Accuracy: 0.652971386647102\n"
     ]
    }
   ],
   "source": [
    "# Support Vector Machine (SVM) classifier\n",
    "clf_svm = SVC().fit(X_train_tfidf, y_train)\n",
    "X_test_counts_svm = count_vect.transform(X_test)\n",
    "X_test_tfidf_svm = tfidf_transformer.transform(X_test_counts_svm)\n",
    "y_pred_svm = clf_svm.predict(X_test_tfidf_svm)\n",
    "print(\"Support Vector Machine (SVM) Classifier:\")\n",
    "accuracy = accuracy_score(y_test, y_pred_svm)\n",
    "print(\"Accuracy:\", accuracy)"
   ]
  },
  {
   "cell_type": "code",
   "execution_count": 14,
   "id": "4ac84769-6e27-4184-afa3-e1cfca970194",
   "metadata": {
    "tags": []
   },
   "outputs": [
    {
     "name": "stdout",
     "output_type": "stream",
     "text": [
      "Random Forest Classifier:\n",
      "Accuracy: 0.7028613352898019\n"
     ]
    }
   ],
   "source": [
    "# Random Forest classifier\n",
    "clf_rf = RandomForestClassifier().fit(X_train_tfidf, y_train)\n",
    "X_test_counts_rf = count_vect.transform(X_test)\n",
    "X_test_tfidf_rf = tfidf_transformer.transform(X_test_counts_rf)\n",
    "y_pred_rf = clf_rf.predict(X_test_tfidf_rf)\n",
    "print(\"Random Forest Classifier:\")\n",
    "accuracy = accuracy_score(y_test, y_pred_rf)\n",
    "print(\"Accuracy:\", accuracy)"
   ]
  },
  {
   "cell_type": "code",
   "execution_count": 16,
   "id": "971850e1-425d-40e5-8e6d-03aa0e1f520f",
   "metadata": {
    "tags": []
   },
   "outputs": [
    {
     "data": {
      "image/png": "[encoded data removed]",
      "text/plain": [
       "<Figure size 800x600 with 2 Axes>"
      ]
     },
     "metadata": {},
     "output_type": "display_data"
    }
   ],
   "source": [
    "import matplotlib.pyplot as plt\n",
    "import seaborn as sns\n",
    "# Displaying Confusion Matrix of Random Forest Classifier\n",
    "cm = confusion_matrix(y_test, y_pred_rf)\n",
    "plt.figure(figsize=(8, 6))\n",
    "sns.heatmap(cm, annot=True, fmt=\"d\", cmap=\"Blues\")\n",
    "plt.title(\"Confusion Matrix\")\n",
    "plt.xlabel(\"Predicted Label\")\n",
    "plt.ylabel(\"True Label\")\n",
    "plt.show()"
   ]
  },
  {
   "cell_type": "markdown",
   "id": "d3d850c9",
   "metadata": {},
   "source": [
    "#### We'll be using Random Forest Classifier for prediction due to its highest accuracy"
   ]
  },
  {
   "cell_type": "code",
   "execution_count": 18,
   "id": "99db42f0-bae6-40ec-85a7-9dd4f3dafdf8",
   "metadata": {
    "tags": []
   },
   "outputs": [
    {
     "name": "stdout",
     "output_type": "stream",
     "text": [
      "Enter your Question:  Where is Taj Mahal?\n"
     ]
    },
    {
     "name": "stdout",
     "output_type": "stream",
     "text": [
      "Predicted Category: LOCATION:other\n"
     ]
    }
   ],
   "source": [
    "def predict_category(question):\n",
    "    intent = clf_rf.predict(count_vect.transform([question]))\n",
    "    intent = str(intent).strip(\"['']\")\n",
    "    return intent\n",
    "\n",
    "# Get user input and predict the category\n",
    "user_question = input(\"Enter your Question: \")\n",
    "predicted_category = predict_category(user_question)\n",
    "print(\"Predicted Category:\", predicted_category)"
   ]
  },
  {
   "cell_type": "markdown",
   "id": "fc4c5bdb-5b2a-4885-95f0-58d2be7345b8",
   "metadata": {
    "tags": []
   },
   "source": [
    "#### This is the highest accuracy we can achieve with the basic models (without Neural networks)."
   ]
  },
  {
   "cell_type": "markdown",
   "id": "58065abe-e2ba-4845-b421-e68d05572248",
   "metadata": {
    "tags": []
   },
   "source": [
    "#### The accuracy of the models will increase significantly when the data size is substantially increased."
   ]
  },
  {
   "cell_type": "code",
   "execution_count": null,
   "id": "8320c4a3-0b3a-4089-8826-37af67ffbf74",
   "metadata": {},
   "outputs": [],
   "source": []
  }
 ],
 "metadata": {
  "kernelspec": {
   "display_name": "Python 3 (ipykernel)",
   "language": "python",
   "name": "python3"
  },
  "language_info": {
   "codemirror_mode": {
    "name": "ipython",
    "version": 3
   },
   "file_extension": ".py",
   "mimetype": "text/x-python",
   "name": "python",
   "nbconvert_exporter": "python",
   "pygments_lexer": "ipython3",
   "version": "3.11.3"
  }
 },
 "nbformat": 4,
 "nbformat_minor": 5
}
